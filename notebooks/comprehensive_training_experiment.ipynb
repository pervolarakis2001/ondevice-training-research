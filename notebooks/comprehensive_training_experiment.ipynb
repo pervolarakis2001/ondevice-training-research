{
 "cells": [
  {
   "cell_type": "code",
   "execution_count": 1,
   "id": "53f6320a",
   "metadata": {
    "_cell_guid": "b1076dfc-b9ad-4769-8c92-a6c4dae69d19",
    "_uuid": "8f2839f25d086af736a60e9eeb907d3b93b6e0e5",
    "execution": {
     "iopub.execute_input": "2024-08-29T10:53:42.483595Z",
     "iopub.status.busy": "2024-08-29T10:53:42.483232Z",
     "iopub.status.idle": "2024-08-29T10:53:57.939588Z",
     "shell.execute_reply": "2024-08-29T10:53:57.938600Z"
    },
    "papermill": {
     "duration": 15.472628,
     "end_time": "2024-08-29T10:53:57.941958",
     "exception": false,
     "start_time": "2024-08-29T10:53:42.469330",
     "status": "completed"
    },
    "tags": []
   },
   "outputs": [
    {
     "name": "stderr",
     "output_type": "stream",
     "text": [
      "2024-08-29 10:53:46.107044: E external/local_xla/xla/stream_executor/cuda/cuda_dnn.cc:9261] Unable to register cuDNN factory: Attempting to register factory for plugin cuDNN when one has already been registered\n",
      "2024-08-29 10:53:46.107174: E external/local_xla/xla/stream_executor/cuda/cuda_fft.cc:607] Unable to register cuFFT factory: Attempting to register factory for plugin cuFFT when one has already been registered\n",
      "2024-08-29 10:53:46.243669: E external/local_xla/xla/stream_executor/cuda/cuda_blas.cc:1515] Unable to register cuBLAS factory: Attempting to register factory for plugin cuBLAS when one has already been registered\n"
     ]
    }
   ],
   "source": [
    "import numpy as np\n",
    "import tensorflow_datasets as tfds\n",
    "import tensorflow as tf  # For tf.data\n",
    "import matplotlib.pyplot as plt\n",
    "import keras\n",
    "from tensorflow import keras\n",
    "from keras import layers\n",
    "from keras.applications import EfficientNetB0\n",
    "from tensorflow.keras import regularizers\n",
    "from keras.callbacks import EarlyStopping\n",
    "from sklearn.metrics import confusion_matrix\n",
    "from sklearn.metrics import f1_score, precision_score, recall_score\n",
    "import seaborn as sns\n",
    "import pickle\n",
    "import pandas as pd\n",
    "import json"
   ]
  },
  {
   "cell_type": "code",
   "execution_count": 3,
   "id": "15415bf2",
   "metadata": {
    "execution": {
     "iopub.execute_input": "2024-08-29T10:53:57.997522Z",
     "iopub.status.busy": "2024-08-29T10:53:57.997245Z",
     "iopub.status.idle": "2024-08-29T10:54:12.998385Z",
     "shell.execute_reply": "2024-08-29T10:54:12.997415Z"
    },
    "papermill": {
     "duration": 15.016078,
     "end_time": "2024-08-29T10:54:13.000780",
     "exception": false,
     "start_time": "2024-08-29T10:53:57.984702",
     "status": "completed"
    },
    "tags": []
   },
   "outputs": [
    {
     "name": "stdout",
     "output_type": "stream",
     "text": [
      "Downloading data from https://www.cs.toronto.edu/~kriz/cifar-10-python.tar.gz\n"
     ]
    },
    {
     "name": "stderr",
     "output_type": "stream",
     "text": [
      "/opt/conda/lib/python3.10/site-packages/keras/src/saving/saving_lib.py:415: UserWarning: Skipping variable loading for optimizer 'adam', because it has 164 variables whereas the saved optimizer has 476 variables. \n",
      "  saveable.load_own_variables(weights_store.get(inner_path))\n"
     ]
    },
    {
     "name": "stdout",
     "output_type": "stream",
     "text": [
      "\u001b[1m170498071/170498071\u001b[0m \u001b[32m━━━━━━━━━━━━━━━━━━━━\u001b[0m\u001b[37m\u001b[0m \u001b[1m5s\u001b[0m 0us/step\n"
     ]
    }
   ],
   "source": [
    "from tensorflow.keras.models import load_model\n",
    "\n",
    "# Load the model saved in Keras HDF5 format\n",
    "model = load_model(\"/kaggle/input/cifar9_95acc/tensorflow2/cifar9_95acc/1/mnv2_cifar9_160_fbn_4.keras\")\n",
    "\n",
    "NUM_CLASSES = 10\n",
    "(x_train, y_train), (x_test, y_test) = keras.datasets.cifar10.load_data()\n",
    "\n",
    "# create n- and m-datasets\n",
    "def create_datasets(x, y, n_classes):\n",
    "\n",
    "    x_n = []\n",
    "    y_n = []\n",
    "    x_m = []\n",
    "    y_m = []\n",
    "    for x_, y_ in zip (x, y):\n",
    "        if y_ in n_classes:\n",
    "            x_n.append(x_)\n",
    "            y_n.append(y_)\n",
    "        else:\n",
    "            x_m.append(x_)\n",
    "            y_m.append(y_)\n",
    "    return np.array(x_n), np.array(y_n), np.array(x_m), np.array(y_m)\n",
    "    \n",
    "n_classes = [0, 1, 2, 3, 4, 5, 6, 7,8]\n",
    "x_train_n, y_train_n, x_train_m, y_train_m = create_datasets(x_train, y_train, n_classes)\n",
    "x_test_n, y_test_n, x_test_m, y_test_m = create_datasets(x_test, y_test, n_classes)\n",
    "\n",
    "y_train = tf.keras.utils.to_categorical(y_train, num_classes=10)\n",
    "y_test = tf.keras.utils.to_categorical(y_test, num_classes=10)\n",
    "\n",
    "y_train_n = tf.keras.utils.to_categorical(y_train_n, num_classes=10)\n",
    "y_test_n = tf.keras.utils.to_categorical(y_test_n, num_classes=10)\n",
    "\n",
    "y_train_m = tf.keras.utils.to_categorical(y_train_m, num_classes=10)\n",
    "y_test_m = tf.keras.utils.to_categorical(y_test_m, num_classes=10)\n",
    "\n",
    "# preprocessing\n",
    "IMAGE_SHAPE = (160, 160, 3)\n",
    "\n",
    "preprocessing = keras.Sequential(\n",
    "    [\n",
    "        layers.Rescaling(1./255.0, offset=0),\n",
    "        layers.Resizing(IMAGE_SHAPE[0], IMAGE_SHAPE[1], interpolation='bilinear')\n",
    "    ],\n",
    "    name=\"preprocessing\",\n",
    ")\n",
    "\n",
    "data_augmentation = keras.Sequential(\n",
    "    [\n",
    "        layers.RandomFlip(\"horizontal\"),\n",
    "        layers.RandomRotation(factor=0.15),\n",
    "        layers.RandomContrast(factor=0.1),\n",
    "        layers.RandomTranslation(height_factor=0.1, width_factor=0.1),\n",
    "        layers.RandomZoom(height_factor=0.2, width_factor=0.2),\n",
    "    ],\n",
    "    name=\"data_augmentation\",\n",
    ")\n",
    "\n",
    "IMG_SIZE = 160\n",
    "BATCH_SIZE = 128\n",
    "BUFFER_SIZE = BATCH_SIZE * 10\n",
    "AUTO = tf.data.AUTOTUNE\n",
    "\n",
    "# original\n",
    "ds_train = tf.data.Dataset.from_tensor_slices((x_train, y_train))\n",
    "ds_train = ds_train.shuffle(ds_train.cardinality()).batch(BATCH_SIZE).map(lambda x, y: (data_augmentation(preprocessing(x)), y)).prefetch(AUTO)\n",
    "\n",
    "ds_test = tf.data.Dataset.from_tensor_slices((x_test, y_test))\n",
    "ds_test = ds_test.batch(BATCH_SIZE).map(lambda x, y: (preprocessing(x), y)).prefetch(AUTO)\n",
    "\n",
    "# n-dataset\n",
    "ds_train_n = tf.data.Dataset.from_tensor_slices((x_train_n, y_train_n))\n",
    "ds_train_n = ds_train_n.shuffle(ds_train_n.cardinality()).batch(BATCH_SIZE).map(lambda x, y: (data_augmentation(preprocessing(x)), y)).prefetch(AUTO)\n",
    "\n",
    "ds_test_n = tf.data.Dataset.from_tensor_slices((x_test_n, y_test_n))\n",
    "ds_test_n = ds_test_n.batch(BATCH_SIZE).map(lambda x, y: (preprocessing(x), y)).prefetch(AUTO)\n",
    "\n",
    "# m-dataset\n",
    "ds_train_m = tf.data.Dataset.from_tensor_slices((x_train_m, y_train_m))\n",
    "ds_train_m = ds_train_m.shuffle(ds_train_m.cardinality()).batch(BATCH_SIZE).map(lambda x, y: (data_augmentation(preprocessing(x)), y)).prefetch(AUTO)\n",
    "\n",
    "ds_test_m = tf.data.Dataset.from_tensor_slices((x_test_m, y_test_m))\n",
    "ds_test_m = ds_test_m.batch(BATCH_SIZE).map(lambda x, y: (preprocessing(x), y)).prefetch(AUTO)"
   ]
  },
  {
   "cell_type": "code",
   "execution_count": 4,
   "id": "ae098ddb",
   "metadata": {
    "execution": {
     "iopub.execute_input": "2024-08-29T10:54:13.041698Z",
     "iopub.status.busy": "2024-08-29T10:54:13.041352Z",
     "iopub.status.idle": "2024-08-29T10:54:13.065549Z",
     "shell.execute_reply": "2024-08-29T10:54:13.064805Z"
    },
    "papermill": {
     "duration": 0.046181,
     "end_time": "2024-08-29T10:54:13.067573",
     "exception": false,
     "start_time": "2024-08-29T10:54:13.021392",
     "status": "completed"
    },
    "tags": []
   },
   "outputs": [],
   "source": [
    "ds_train_m = ds_train_m.unbatch().batch(1)\n",
    "ds_train_n = ds_train_n.unbatch().batch(1)"
   ]
  },
  {
   "cell_type": "code",
   "execution_count": 5,
   "id": "cf68d865",
   "metadata": {
    "execution": {
     "iopub.execute_input": "2024-08-29T10:54:13.106551Z",
     "iopub.status.busy": "2024-08-29T10:54:13.106234Z",
     "iopub.status.idle": "2024-08-29T10:54:13.119891Z",
     "shell.execute_reply": "2024-08-29T10:54:13.119228Z"
    },
    "papermill": {
     "duration": 0.035179,
     "end_time": "2024-08-29T10:54:13.121716",
     "exception": false,
     "start_time": "2024-08-29T10:54:13.086537",
     "status": "completed"
    },
    "tags": []
   },
   "outputs": [],
   "source": [
    "ds_test_n = ds_test_n.unbatch().batch(1)"
   ]
  },
  {
   "cell_type": "code",
   "execution_count": 6,
   "id": "7587f21f",
   "metadata": {
    "execution": {
     "iopub.execute_input": "2024-08-29T10:54:13.160331Z",
     "iopub.status.busy": "2024-08-29T10:54:13.160052Z",
     "iopub.status.idle": "2024-08-29T10:54:13.172780Z",
     "shell.execute_reply": "2024-08-29T10:54:13.172090Z"
    },
    "papermill": {
     "duration": 0.034109,
     "end_time": "2024-08-29T10:54:13.174548",
     "exception": false,
     "start_time": "2024-08-29T10:54:13.140439",
     "status": "completed"
    },
    "tags": []
   },
   "outputs": [],
   "source": [
    "ds_test_m = ds_test_m.unbatch().batch(1)"
   ]
  },
  {
   "cell_type": "markdown",
   "id": "be434c12",
   "metadata": {
    "papermill": {
     "duration": 0.018437,
     "end_time": "2024-08-29T10:54:13.211688",
     "exception": false,
     "start_time": "2024-08-29T10:54:13.193251",
     "status": "completed"
    },
    "tags": []
   },
   "source": [
    "## Experiment: Best and Worst images for model "
   ]
  },
  {
   "cell_type": "code",
   "execution_count": 7,
   "id": "1432f376",
   "metadata": {
    "execution": {
     "iopub.execute_input": "2024-08-29T10:54:13.250007Z",
     "iopub.status.busy": "2024-08-29T10:54:13.249763Z",
     "iopub.status.idle": "2024-08-29T10:54:13.256692Z",
     "shell.execute_reply": "2024-08-29T10:54:13.255938Z"
    },
    "papermill": {
     "duration": 0.028165,
     "end_time": "2024-08-29T10:54:13.258488",
     "exception": false,
     "start_time": "2024-08-29T10:54:13.230323",
     "status": "completed"
    },
    "tags": []
   },
   "outputs": [],
   "source": [
    "def calculate_bvsb(probs):\n",
    "    sorted_probs = np.sort(probs, axis=1)[:, ::-1]\n",
    "    bvsb = sorted_probs[:, 0] - sorted_probs[:, 1]\n",
    "    return bvsb\n",
    "\n",
    "def save_images(images, output_dir, image_format='PNG'):\n",
    "    os.makedirs(output_dir, exist_ok=True)\n",
    "    \n",
    "    for idx, image in enumerate(images):\n",
    "        image = np.clip(image, 0.0, 1.0)\n",
    "        image_uint8 = (image.squeeze() * 255.0).astype(np.uint8)\n",
    "        if image_uint8.shape[0] == 3:\n",
    "            image_uint8 = np.transpose(image_uint8, (1, 2, 0))\n",
    "        image_pil = Image.fromarray(image_uint8)\n",
    "        temp_image_path = os.path.join(output_dir, f'image_{idx}.{image_format.lower()}')\n",
    "        image_pil.save(temp_image_path, format=image_format)\n"
   ]
  },
  {
   "cell_type": "code",
   "execution_count": 8,
   "id": "dcc1a629",
   "metadata": {
    "execution": {
     "iopub.execute_input": "2024-08-29T10:54:13.296844Z",
     "iopub.status.busy": "2024-08-29T10:54:13.296577Z",
     "iopub.status.idle": "2024-08-29T10:54:13.304518Z",
     "shell.execute_reply": "2024-08-29T10:54:13.303717Z"
    },
    "papermill": {
     "duration": 0.029285,
     "end_time": "2024-08-29T10:54:13.306572",
     "exception": false,
     "start_time": "2024-08-29T10:54:13.277287",
     "status": "completed"
    },
    "tags": []
   },
   "outputs": [
    {
     "data": {
      "text/plain": [
       "' \\nimport numpy as np\\nimport os\\nimport absl.logging\\nfrom PIL import Image\\nimport os\\nimport zipfile\\n# Initialize logging before any significant operations\\n\\n# Define the directory to save outputs in Kaggle\\n\\nn_labels = [0,1,2,3, 4, 5, 6, 7]\\n\\nopt = keras.optimizers.Adam(learning_rate=0.000001, epsilon=0.002, amsgrad=True, weight_decay=1e-5)\\nloss = keras.losses.CategoricalCrossentropy(label_smoothing=0.1)\\nmodel.compile(optimizer=opt, loss=loss, metrics=[\"accuracy\"])\\nbest_count = 0 \\nfor i in n_labels:\\n    best_samples = []\\n    worst_samples = [] \\n    bsvb_data = []\\n    count= 0\\n    n_labels_copy = n_labels.copy()\\n    n_labels_copy.remove(i)\\n    n_labels_ = tf.keras.utils.to_categorical(n_labels_copy, num_classes=10)\\n    for x, y in ds_train_n:\\n        if  not any(np.array_equal(y[0].numpy(), n) for n in n_labels_):\\n            prediction = model.predict(x,verbose=0)\\n            if(np.argmax(y)==np.argmax(prediction)):\\n                bvsb = calculate_bvsb(prediction)\\n                bsvb_data.append((x, y.numpy(), bvsb[0]))\\n        \\n    \\n    sorted_bsvb_data = sorted(bsvb_data, key=lambda x: x[2])\\n    x_y = [item[0] for item in sorted_bsvb_data]\\n    worst = x_y[:20]\\n    best = x_y[-20:]\\n    arr_1 = []\\n    for x in worst:\\n        arr_1.append(x.numpy())\\n    arr_2 = []\\n    for x in best:\\n        arr_2.append(x.numpy())\\n\\n    output_zip_path = f\\'/kaggle/working/worst_images_{i}\\'\\n    save_images(arr_1, output_zip_path, image_format=\\'PNG\\')\\n    output_zip_path = f\\'/kaggle/working/best_images_{i}\\'\\n    save_images(arr_2, output_zip_path, image_format=\\'PNG\\')\\n'"
      ]
     },
     "execution_count": 8,
     "metadata": {},
     "output_type": "execute_result"
    }
   ],
   "source": [
    "\"\"\" \n",
    "import numpy as np\n",
    "import os\n",
    "import absl.logging\n",
    "from PIL import Image\n",
    "import os\n",
    "import zipfile\n",
    "# Initialize logging before any significant operations\n",
    "\n",
    "# Define the directory to save outputs in Kaggle\n",
    "\n",
    "n_labels = [0,1,2,3, 4, 5, 6, 7]\n",
    "\n",
    "opt = keras.optimizers.Adam(learning_rate=0.000001, epsilon=0.002, amsgrad=True, weight_decay=1e-5)\n",
    "loss = keras.losses.CategoricalCrossentropy(label_smoothing=0.1)\n",
    "model.compile(optimizer=opt, loss=loss, metrics=[\"accuracy\"])\n",
    "best_count = 0 \n",
    "for i in n_labels:\n",
    "    best_samples = []\n",
    "    worst_samples = [] \n",
    "    bsvb_data = []\n",
    "    count= 0\n",
    "    n_labels_copy = n_labels.copy()\n",
    "    n_labels_copy.remove(i)\n",
    "    n_labels_ = tf.keras.utils.to_categorical(n_labels_copy, num_classes=10)\n",
    "    for x, y in ds_train_n:\n",
    "        if  not any(np.array_equal(y[0].numpy(), n) for n in n_labels_):\n",
    "            prediction = model.predict(x,verbose=0)\n",
    "            if(np.argmax(y)==np.argmax(prediction)):\n",
    "                bvsb = calculate_bvsb(prediction)\n",
    "                bsvb_data.append((x, y.numpy(), bvsb[0]))\n",
    "        \n",
    "    \n",
    "    sorted_bsvb_data = sorted(bsvb_data, key=lambda x: x[2])\n",
    "    x_y = [item[0] for item in sorted_bsvb_data]\n",
    "    worst = x_y[:20]\n",
    "    best = x_y[-20:]\n",
    "    arr_1 = []\n",
    "    for x in worst:\n",
    "        arr_1.append(x.numpy())\n",
    "    arr_2 = []\n",
    "    for x in best:\n",
    "        arr_2.append(x.numpy())\n",
    "\n",
    "    output_zip_path = f'/kaggle/working/worst_images_{i}'\n",
    "    save_images(arr_1, output_zip_path, image_format='PNG')\n",
    "    output_zip_path = f'/kaggle/working/best_images_{i}'\n",
    "    save_images(arr_2, output_zip_path, image_format='PNG')\n",
    "\"\"\" \n"
   ]
  },
  {
   "cell_type": "code",
   "execution_count": 9,
   "id": "f80504f1",
   "metadata": {
    "execution": {
     "iopub.execute_input": "2024-08-29T10:54:13.345058Z",
     "iopub.status.busy": "2024-08-29T10:54:13.344825Z",
     "iopub.status.idle": "2024-08-29T10:54:18.833861Z",
     "shell.execute_reply": "2024-08-29T10:54:18.833084Z"
    },
    "papermill": {
     "duration": 5.51078,
     "end_time": "2024-08-29T10:54:18.836074",
     "exception": false,
     "start_time": "2024-08-29T10:54:13.325294",
     "status": "completed"
    },
    "tags": []
   },
   "outputs": [],
   "source": [
    "import numpy as np\n",
    "import os\n",
    "import absl.logging\n",
    "from PIL import Image\n",
    "import os\n",
    "import zipfile\n",
    "arr= []\n",
    "for x,y in ds_train_m:\n",
    "    arr.append(x.numpy())\n",
    "    if len(arr)== 160:\n",
    "        break\n",
    "output_zip_path = f'/kaggle/working/ds_train_m_'\n",
    "save_images(arr, output_zip_path, image_format='PNG')\n"
   ]
  },
  {
   "cell_type": "code",
   "execution_count": null,
   "id": "f95c7327",
   "metadata": {
    "execution": {
     "iopub.execute_input": "2024-08-29T10:54:18.875584Z",
     "iopub.status.busy": "2024-08-29T10:54:18.875298Z",
     "iopub.status.idle": "2024-08-29T10:54:18.881810Z",
     "shell.execute_reply": "2024-08-29T10:54:18.880988Z"
    },
    "papermill": {
     "duration": 0.028273,
     "end_time": "2024-08-29T10:54:18.883764",
     "exception": false,
     "start_time": "2024-08-29T10:54:18.855491",
     "status": "completed"
    },
    "tags": []
   },
   "outputs": [
    {
     "data": {
      "text/plain": [
       "' \\nimport numpy as np\\nimport os\\nimport absl.logging\\nfrom PIL import Image\\nimport os\\nimport zipfile\\n# Initialize logging before any significant operations\\n\\n# Define the directory to save outputs in Kaggle\\n\\nn_labels = [0,1,2,3, 4, 5, 6, 7,8]\\n\\nopt = keras.optimizers.Adam(learning_rate=0.000001, epsilon=0.002, amsgrad=True, weight_decay=1e-5)\\nloss = keras.losses.CategoricalCrossentropy(label_smoothing=0.1)\\nmodel.compile(optimizer=opt, loss=loss, metrics=[\"accuracy\"])\\nbest_count = 0 \\nfor i in n_labels:\\n    best_samples = []\\n    worst_samples = [] \\n    bsvb_data = []\\n    count= 0\\n    n_labels_copy = n_labels.copy()\\n    n_labels_copy.remove(i)\\n    n_labels_ = tf.keras.utils.to_categorical(n_labels_copy, num_classes=10)\\n    for x, y in ds_train_n:\\n        if  not any(np.array_equal(y[0].numpy(), n) for n in n_labels_):         \\n            bsvb_data.append(x.numpy())\\n            if len(bsvb_data)== 10:\\n                break\\n        \\n\\n    \\n    output_zip_path = f\\'/kaggle/working/n_random_images_{i}\\'\\n    save_images(bsvb_data, output_zip_path, image_format=\\'PNG\\')\\n'"
      ]
     },
     "execution_count": 10,
     "metadata": {},
     "output_type": "execute_result"
    }
   ],
   "source": [
    "import numpy as np\n",
    "import os\n",
    "import absl.logging\n",
    "from PIL import Image\n",
    "import os\n",
    "import zipfile\n",
    "# Initialize logging before any significant operations\n",
    "\n",
    "# Define the directory to save outputs in Kaggle\n",
    "\n",
    "n_labels = [0,1,2,3, 4, 5, 6, 7,8]\n",
    "\n",
    "opt = keras.optimizers.Adam(learning_rate=0.000001, epsilon=0.002, amsgrad=True, weight_decay=1e-5)\n",
    "loss = keras.losses.CategoricalCrossentropy(label_smoothing=0.1)\n",
    "model.compile(optimizer=opt, loss=loss, metrics=[\"accuracy\"])\n",
    "best_count = 0 \n",
    "for i in n_labels:\n",
    "    best_samples = []\n",
    "    worst_samples = [] \n",
    "    bsvb_data = []\n",
    "    count= 0\n",
    "    n_labels_copy = n_labels.copy()\n",
    "    n_labels_copy.remove(i)\n",
    "    n_labels_ = tf.keras.utils.to_categorical(n_labels_copy, num_classes=10)\n",
    "    for x, y in ds_train_n:\n",
    "        if  not any(np.array_equal(y[0].numpy(), n) for n in n_labels_):         \n",
    "            bsvb_data.append(x.numpy())\n",
    "            if len(bsvb_data)== 10:\n",
    "                break\n",
    "        \n",
    "\n",
    "    \n",
    "    output_zip_path = f'/kaggle/working/n_random_images_{i}'\n",
    "    save_images(bsvb_data, output_zip_path, image_format='PNG')\n"
   ]
  },
  {
   "cell_type": "markdown",
   "id": "8d45f9d8",
   "metadata": {
    "papermill": {
     "duration": 0.018952,
     "end_time": "2024-08-29T10:54:18.922336",
     "exception": false,
     "start_time": "2024-08-29T10:54:18.903384",
     "status": "completed"
    },
    "tags": []
   },
   "source": [
    "Choose 93 samples from ds_train_m:"
   ]
  },
  {
   "cell_type": "code",
   "execution_count": null,
   "id": "8dc779b9",
   "metadata": {
    "execution": {
     "iopub.execute_input": "2024-08-29T10:54:18.961024Z",
     "iopub.status.busy": "2024-08-29T10:54:18.960779Z",
     "iopub.status.idle": "2024-08-29T10:54:18.966042Z",
     "shell.execute_reply": "2024-08-29T10:54:18.965244Z"
    },
    "papermill": {
     "duration": 0.026765,
     "end_time": "2024-08-29T10:54:18.967931",
     "exception": false,
     "start_time": "2024-08-29T10:54:18.941166",
     "status": "completed"
    },
    "tags": []
   },
   "outputs": [
    {
     "data": {
      "text/plain": [
       "\" \\nm_samples = []\\ni =0 \\nfor x, y in ds_train_m:\\n    m_samples.append(x.numpy())\\n    if i == 139:\\n        break\\n    i+=1 \\n\\noutput_zip_path = '/kaggle/working/m_samples'\\nsave_images(m_samples, output_zip_path, image_format='PNG')\\n\""
      ]
     },
     "execution_count": 11,
     "metadata": {},
     "output_type": "execute_result"
    }
   ],
   "source": [
    "m_samples = []\n",
    "i =0 \n",
    "for x, y in ds_train_m:\n",
    "    m_samples.append(x.numpy())\n",
    "    if i == 139:\n",
    "        break\n",
    "    i+=1 \n",
    "\n",
    "output_zip_path = '/kaggle/working/m_samples'\n",
    "save_images(m_samples, output_zip_path, image_format='PNG')\n"
   ]
  },
  {
   "cell_type": "markdown",
   "id": "cda3daf6",
   "metadata": {
    "papermill": {
     "duration": 0.018704,
     "end_time": "2024-08-29T10:54:19.005489",
     "exception": false,
     "start_time": "2024-08-29T10:54:18.986785",
     "status": "completed"
    },
    "tags": []
   },
   "source": [
    "## Experiment: Find Samples from ds_train_n that keep the accuracy of model stable"
   ]
  },
  {
   "cell_type": "code",
   "execution_count": null,
   "id": "90fafb77",
   "metadata": {
    "_kg_hide-output": true,
    "execution": {
     "iopub.execute_input": "2024-08-29T10:54:19.044447Z",
     "iopub.status.busy": "2024-08-29T10:54:19.044155Z",
     "iopub.status.idle": "2024-08-29T10:54:19.047761Z",
     "shell.execute_reply": "2024-08-29T10:54:19.046860Z"
    },
    "papermill": {
     "duration": 0.025131,
     "end_time": "2024-08-29T10:54:19.049595",
     "exception": false,
     "start_time": "2024-08-29T10:54:19.024464",
     "status": "completed"
    },
    "tags": []
   },
   "outputs": [],
   "source": [
    "model.evaluate(ds_test_n,verbose=0)"
   ]
  },
  {
   "cell_type": "code",
   "execution_count": null,
   "id": "625a9710",
   "metadata": {
    "execution": {
     "iopub.execute_input": "2024-08-29T10:54:19.088811Z",
     "iopub.status.busy": "2024-08-29T10:54:19.088573Z",
     "iopub.status.idle": "2024-08-29T10:54:19.094322Z",
     "shell.execute_reply": "2024-08-29T10:54:19.093531Z"
    },
    "papermill": {
     "duration": 0.027624,
     "end_time": "2024-08-29T10:54:19.096221",
     "exception": false,
     "start_time": "2024-08-29T10:54:19.068597",
     "status": "completed"
    },
    "tags": []
   },
   "outputs": [
    {
     "data": {
      "text/plain": [
       "' \\nn_labels = [0,1,2,3, 4, 5, 6, 7,8]\\naccuracies_n = []\\nfor i in n_labels:\\n    \\n    n_labels_copy = n_labels.copy()\\n    n_labels_copy.remove(i)\\n    n_labels_ = tf.keras.utils.to_categorical(n_labels_copy, num_classes=10)\\n    x_t = []\\n    y_t = []\\n    for x,y in ds_test_n:\\n        if  not any(np.array_equal(y[0].numpy(), n) for n in n_labels_):\\n            x_t.append(x.numpy())\\n            y_t.append(y.numpy())\\n    \\n\\n    ds_class = tf.data.Dataset.from_tensor_slices((x_t,y_t))  \\n    _,acc = model.evaluate(ds_class,verbose=0)\\n    accuracies_n.append(acc)\\n    print(\"For class {}: evaluation is {}\".format(i,acc))\\n  '"
      ]
     },
     "execution_count": 13,
     "metadata": {},
     "output_type": "execute_result"
    }
   ],
   "source": [
    "n_labels = [0,1,2,3, 4, 5, 6, 7,8]\n",
    "accuracies_n = []\n",
    "for i in n_labels:\n",
    "    \n",
    "    n_labels_copy = n_labels.copy()\n",
    "    n_labels_copy.remove(i)\n",
    "    n_labels_ = tf.keras.utils.to_categorical(n_labels_copy, num_classes=10)\n",
    "    x_t = []\n",
    "    y_t = []\n",
    "    for x,y in ds_test_n:\n",
    "        if  not any(np.array_equal(y[0].numpy(), n) for n in n_labels_):\n",
    "            x_t.append(x.numpy())\n",
    "            y_t.append(y.numpy())\n",
    "    \n",
    "\n",
    "    ds_class = tf.data.Dataset.from_tensor_slices((x_t,y_t))  \n",
    "    _,acc = model.evaluate(ds_class,verbose=0)\n",
    "    accuracies_n.append(acc)\n",
    "    print(\"For class {}: evaluation is {}\".format(i,acc))\n"
   ]
  },
  {
   "cell_type": "markdown",
   "id": "f113f997",
   "metadata": {
    "papermill": {
     "duration": 0.019063,
     "end_time": "2024-08-29T10:54:19.134366",
     "exception": false,
     "start_time": "2024-08-29T10:54:19.115303",
     "status": "completed"
    },
    "tags": []
   },
   "source": [
    "**1)Stratified Sampling**"
   ]
  },
  {
   "cell_type": "code",
   "execution_count": null,
   "id": "e75d6726",
   "metadata": {
    "execution": {
     "iopub.execute_input": "2024-08-29T10:54:19.174854Z",
     "iopub.status.busy": "2024-08-29T10:54:19.173981Z",
     "iopub.status.idle": "2024-08-29T10:54:19.181344Z",
     "shell.execute_reply": "2024-08-29T10:54:19.180494Z"
    },
    "papermill": {
     "duration": 0.029361,
     "end_time": "2024-08-29T10:54:19.183158",
     "exception": false,
     "start_time": "2024-08-29T10:54:19.153797",
     "status": "completed"
    },
    "tags": []
   },
   "outputs": [
    {
     "data": {
      "text/plain": [
       "'\\nfrom sklearn.model_selection import train_test_split\\n\\nn_labels = [0,1,2,3,4, 5, 6, 7,8]\\naccuracies_sampled = []\\nsampled_datasets = []\\nfor i in n_labels:\\n    \\n    n_labels_copy = n_labels.copy()\\n    n_labels_copy.remove(i)\\n    n_labels_ = tf.keras.utils.to_categorical(n_labels_copy, num_classes=10)\\n    x_test = []\\n    y_test = []\\n    for x,y in ds_test_n:\\n        if  not any(np.array_equal(y[0].numpy(), n) for n in n_labels_):\\n            x_test.append(x.numpy())\\n            y_test.append(i)\\n   \\n    x_test = np.array(x_test, dtype=np.float32)\\n    y_test = np.array(y_test, dtype=np.float32)\\n    test_size = 0.3  \\n    random_seed = 42  \\n    x_sampled, _, y_sampled, _ = train_test_split(\\n        x_test, y_test, test_size=test_size, stratify=y_test, random_state=random_seed\\n    )\\n    ds_test_sampled = tf.data.Dataset.from_tensor_slices((x_sampled, tf.keras.utils.to_categorical(y_sampled, num_classes=10)))\\n    _, acc_sampled = model.evaluate(ds_test_sampled, verbose=0)\\n    accuracies_sampled.append(acc_sampled)\\n    \\n    sampled_datasets.append(accuracies_sampled)\\n    \\ncombined_dataset = sampled_datasets[0]\\nfor ds in sampled_datasets[1:]:\\n    combined_dataset = combined_dataset.concatenate(ds)\\n\\n_, acc_combined = model.evaluate(combined_dataset, verbose=0)\\nprint(f\"Combined dataset evaluation accuracy is {acc_combined}\")\\n '"
      ]
     },
     "execution_count": 14,
     "metadata": {},
     "output_type": "execute_result"
    }
   ],
   "source": [
    "from sklearn.model_selection import train_test_split\n",
    "\n",
    "n_labels = [0,1,2,3,4, 5, 6, 7,8]\n",
    "accuracies_sampled = []\n",
    "sampled_datasets = []\n",
    "for i in n_labels:\n",
    "    \n",
    "    n_labels_copy = n_labels.copy()\n",
    "    n_labels_copy.remove(i)\n",
    "    n_labels_ = tf.keras.utils.to_categorical(n_labels_copy, num_classes=10)\n",
    "    x_test = []\n",
    "    y_test = []\n",
    "    for x,y in ds_test_n:\n",
    "        if  not any(np.array_equal(y[0].numpy(), n) for n in n_labels_):\n",
    "            x_test.append(x.numpy())\n",
    "            y_test.append(i)\n",
    "   \n",
    "    x_test = np.array(x_test, dtype=np.float32)\n",
    "    y_test = np.array(y_test, dtype=np.float32)\n",
    "    test_size = 0.3  \n",
    "    random_seed = 42  \n",
    "    x_sampled, _, y_sampled, _ = train_test_split(\n",
    "        x_test, y_test, test_size=test_size, stratify=y_test, random_state=random_seed\n",
    "    )\n",
    "    ds_test_sampled = tf.data.Dataset.from_tensor_slices((x_sampled, tf.keras.utils.to_categorical(y_sampled, num_classes=10)))\n",
    "    _, acc_sampled = model.evaluate(ds_test_sampled, verbose=0)\n",
    "    accuracies_sampled.append(acc_sampled)\n",
    "    \n",
    "    sampled_datasets.append(accuracies_sampled)\n",
    "    \n",
    "combined_dataset = sampled_datasets[0]\n",
    "for ds in sampled_datasets[1:]:\n",
    "    combined_dataset = combined_dataset.concatenate(ds)\n",
    "\n",
    "_, acc_combined = model.evaluate(combined_dataset, verbose=0)\n",
    "print(f\"Combined dataset evaluation accuracy is {acc_combined}\")\n"
   ]
  },
  {
   "cell_type": "code",
   "execution_count": 15,
   "id": "5d19f199",
   "metadata": {
    "execution": {
     "iopub.execute_input": "2024-08-29T10:54:19.223166Z",
     "iopub.status.busy": "2024-08-29T10:54:19.222886Z",
     "iopub.status.idle": "2024-08-29T10:54:40.665936Z",
     "shell.execute_reply": "2024-08-29T10:54:40.664970Z"
    },
    "papermill": {
     "duration": 21.465655,
     "end_time": "2024-08-29T10:54:40.668147",
     "exception": false,
     "start_time": "2024-08-29T10:54:19.202492",
     "status": "completed"
    },
    "tags": []
   },
   "outputs": [
    {
     "name": "stdout",
     "output_type": "stream",
     "text": [
      "samples of class 0 = 30\n",
      "samples of class 1 = 30\n",
      "samples of class 2 = 30\n",
      "samples of class 3 = 30\n",
      "samples of class 4 = 30\n",
      "samples of class 5 = 30\n",
      "samples of class 6 = 30\n",
      "samples of class 7 = 30\n",
      "samples of class 8 = 30\n"
     ]
    },
    {
     "name": "stderr",
     "output_type": "stream",
     "text": [
      "WARNING: All log messages before absl::InitializeLog() is called are written to STDERR\n",
      "I0000 00:00:1724928879.556951      67 device_compiler.h:186] Compiled cluster using XLA!  This line is logged at most once for the lifetime of the process.\n"
     ]
    },
    {
     "data": {
      "text/plain": [
       "0.9629629850387573"
      ]
     },
     "execution_count": 15,
     "metadata": {},
     "output_type": "execute_result"
    }
   ],
   "source": [
    "from sklearn.model_selection import train_test_split\n",
    "n_labels = [0,1,2,3, 4, 5, 6, 7,8]\n",
    "x_test = []\n",
    "y_test = []\n",
    "labels = []\n",
    "for x,y in ds_test_n:  \n",
    "    x_test.append(x.numpy())\n",
    "    y_test.append(np.argmax(y))\n",
    "  \n",
    "x_test = np.array(x_test,dtype=np.float32)\n",
    "y_test = np.array(y_test,dtype=np.float32)\n",
    "test_size = 270\n",
    "random_seed = 42  \n",
    "_,x_sampled,_, y_sampled = train_test_split(\n",
    "    x_test, y_test,test_size = test_size , stratify=y_test, random_state=random_seed\n",
    ")\n",
    "\n",
    "y=  tf.keras.utils.to_categorical(y_sampled, num_classes=10)\n",
    "\n",
    "ds_test_sampled = tf.data.Dataset.from_tensor_slices((x_sampled, y))\n",
    "def reshape_y(x, y):\n",
    "    y = tf.reshape(y, (1, 10))\n",
    "    return x, y\n",
    "ds_test_stratified = ds_test_sampled.map(reshape_y)\n",
    "for i in n_labels:\n",
    "    arr = []\n",
    "    count = 0 \n",
    "    n_labels_copy = n_labels.copy()\n",
    "    n_labels_copy.remove(i)\n",
    "    n_labels_ = tf.keras.utils.to_categorical(n_labels_copy, num_classes=10)\n",
    "    for x,y in ds_test_stratified:\n",
    "        if  not any(np.array_equal(y[0].numpy(), n) for n in n_labels_):\n",
    "            count+=1\n",
    "            arr.append(x.numpy())\n",
    "    #output_zip_path =f'/kaggle/working/ds_test_strartified_{i}'\n",
    "   # save_images(arr, output_zip_path, image_format='PNG')\n",
    "    print(\"samples of class {} = {}\".format(i,count))\n",
    "            \n",
    "    \n",
    "_, acc_sampled = model.evaluate( ds_test_stratified, verbose=0)\n",
    "acc_sampled\n",
    "\n"
   ]
  },
  {
   "cell_type": "code",
   "execution_count": null,
   "id": "24cb0891",
   "metadata": {
    "execution": {
     "iopub.execute_input": "2024-08-29T10:54:40.710954Z",
     "iopub.status.busy": "2024-08-29T10:54:40.710631Z",
     "iopub.status.idle": "2024-08-29T10:54:40.716811Z",
     "shell.execute_reply": "2024-08-29T10:54:40.715981Z"
    },
    "papermill": {
     "duration": 0.02953,
     "end_time": "2024-08-29T10:54:40.718761",
     "exception": false,
     "start_time": "2024-08-29T10:54:40.689231",
     "status": "completed"
    },
    "tags": []
   },
   "outputs": [
    {
     "data": {
      "text/plain": [
       "\" \\nimport matplotlib.pyplot as plt\\nimport seaborn as sns\\nimport numpy as np\\n\\n# Ensure the plots are displayed inline in Jupyter Notebooks\\n%matplotlib inline\\n\\n# Assuming y_test is already a numpy array of class labels\\nclass_counts = np.bincount(y_test.astype(int))  # Count the occurrences of each class\\nclass_labels = np.arange(len(class_counts))     # Generate class labels\\n\\n# Set up the plot\\nplt.figure(figsize=(10, 6))\\n\\n# Create the bar plot\\nsns.barplot(x=class_labels, y=class_counts, palette='viridis')\\n\\n# Add titles and labels\\nplt.title('Distribution of Images per Class')\\nplt.xlabel('Class Label')\\nplt.ylabel('Number of Images')\\n\\n# Display the plot\\nplt.show()\\n\""
      ]
     },
     "execution_count": 16,
     "metadata": {},
     "output_type": "execute_result"
    }
   ],
   "source": [
    "import matplotlib.pyplot as plt\n",
    "import seaborn as sns\n",
    "import numpy as np\n",
    "\n",
    "# Ensure the plots are displayed inline in Jupyter Notebooks\n",
    "%matplotlib inline\n",
    "\n",
    "# Assuming y_test is already a numpy array of class labels\n",
    "class_counts = np.bincount(y_test.astype(int))  # Count the occurrences of each class\n",
    "class_labels = np.arange(len(class_counts))     # Generate class labels\n",
    "\n",
    "# Set up the plot\n",
    "plt.figure(figsize=(10, 6))\n",
    "\n",
    "# Create the bar plot\n",
    "sns.barplot(x=class_labels, y=class_counts, palette='viridis')\n",
    "\n",
    "# Add titles and labels\n",
    "plt.title('Distribution of Images per Class')\n",
    "plt.xlabel('Class Label')\n",
    "plt.ylabel('Number of Images')\n",
    "\n",
    "# Display the plot\n",
    "plt.show()\n"
   ]
  },
  {
   "cell_type": "code",
   "execution_count": null,
   "id": "86e81894",
   "metadata": {
    "execution": {
     "iopub.execute_input": "2024-08-29T10:54:40.760724Z",
     "iopub.status.busy": "2024-08-29T10:54:40.760445Z",
     "iopub.status.idle": "2024-08-29T10:54:40.766306Z",
     "shell.execute_reply": "2024-08-29T10:54:40.765488Z"
    },
    "papermill": {
     "duration": 0.029275,
     "end_time": "2024-08-29T10:54:40.768273",
     "exception": false,
     "start_time": "2024-08-29T10:54:40.738998",
     "status": "completed"
    },
    "tags": []
   },
   "outputs": [
    {
     "data": {
      "text/plain": [
       "' \\nds_list = [(x.numpy(),np.argmax(y)) for x,y in ds_test_sampled]\\ntest_img = [item[0] for item in ds_list]\\ntest_labels = [item[1] for item in ds_list]\\noutput_zip_path = \\'/kaggle/working/test_X_cifar10\\'\\nsave_images(test_img, output_zip_path, image_format=\\'PNG\\')\\n\\nwith open(\\'/kaggle/working/test_Y_cifar10.txt\\', \\'w\\') as f:\\n    for item in test_labels:\\n        f.write(f\"{item}\\n\")\\n'"
      ]
     },
     "execution_count": 17,
     "metadata": {},
     "output_type": "execute_result"
    }
   ],
   "source": [
    "from PIL import Image\n",
    "import os\n",
    "import zipfile\n",
    "ds_list = [(x.numpy(),np.argmax(y)) for x,y in ds_test_sampled]\n",
    "test_img = [item[0] for item in ds_list]\n",
    "test_labels = [item[1] for item in ds_list]\n",
    "output_zip_path = '/kaggle/working/test_X_cifar10'\n",
    "save_images(test_img, output_zip_path, image_format='PNG')\n",
    "\n",
    "with open('/kaggle/working/test_Y_cifar10.txt', 'w') as f:\n",
    "    for item in test_labels:\n",
    "        f.write(f\"{item}\\n\")\n"
   ]
  },
  {
   "cell_type": "markdown",
   "id": "39deeb9d",
   "metadata": {
    "papermill": {
     "duration": 0.062106,
     "end_time": "2024-08-29T10:54:40.852221",
     "exception": false,
     "start_time": "2024-08-29T10:54:40.790115",
     "status": "completed"
    },
    "tags": []
   },
   "source": [
    "**2) Subsampling based on correct and false predictions**"
   ]
  },
  {
   "cell_type": "code",
   "execution_count": 18,
   "id": "b96dfed1",
   "metadata": {
    "execution": {
     "iopub.execute_input": "2024-08-29T10:54:40.895477Z",
     "iopub.status.busy": "2024-08-29T10:54:40.895132Z",
     "iopub.status.idle": "2024-08-29T11:07:36.779013Z",
     "shell.execute_reply": "2024-08-29T11:07:36.778225Z"
    },
    "papermill": {
     "duration": 775.908358,
     "end_time": "2024-08-29T11:07:36.781397",
     "exception": false,
     "start_time": "2024-08-29T10:54:40.873039",
     "status": "completed"
    },
    "tags": []
   },
   "outputs": [
    {
     "name": "stdout",
     "output_type": "stream",
     "text": [
      "29\n",
      "for class0 most common misclassified class= 8,count=25\n",
      "29\n",
      "for class1 most common misclassified class= 8,count=3\n",
      "29\n",
      "for class2 most common misclassified class= 4,count=17\n",
      "29\n",
      "for class3 most common misclassified class= 5,count=65\n",
      "29\n",
      "for class4 most common misclassified class= 7,count=13\n",
      "29\n",
      "for class5 most common misclassified class= 3,count=49\n",
      "29\n",
      "for class6 most common misclassified class= 0,count=4\n",
      "29\n",
      "for class7 most common misclassified class= 4,count=12\n",
      "29\n",
      "for class8 most common misclassified class= 0,count=8\n"
     ]
    }
   ],
   "source": [
    "from sklearn.model_selection import train_test_split\n",
    "import random\n",
    "from collections import Counter\n",
    "from sklearn.utils import resample\n",
    "\n",
    "\n",
    "n_labels = [0,1,2,3, 4, 5, 6, 7,8]\n",
    "accuracies_sampled = []\n",
    "sampled_datasets = []\n",
    "def reshape_y(x, y):\n",
    "    y = tf.reshape(y, (1, 10))\n",
    "    return x, y\n",
    "\n",
    "for i in n_labels:\n",
    "    n_labels_copy = n_labels.copy()\n",
    "    n_labels_copy.remove(i)\n",
    "    n_labels_ = tf.keras.utils.to_categorical(n_labels_copy, num_classes=10)\n",
    "    samples_true = []\n",
    "    samples_false = []\n",
    "    x_t = []\n",
    "    y_t = []\n",
    "    #find the images that model classifies correct and false \n",
    "    for x,y in ds_test_n:\n",
    "        if  not any(np.array_equal(y[0].numpy(), n) for n in n_labels_):\n",
    "            x_t.append(x.numpy())\n",
    "            y_t.append(y)\n",
    "            prediction = model.predict(x,verbose=0).astype(np.float64)\n",
    "            if(np.argmax(y)==np.argmax(prediction)):\n",
    "                samples_true.append((x,np.max(prediction))) # save top-1 softmax\n",
    "            else:\n",
    "                samples_false.append((x,prediction))\n",
    "    \n",
    "    # plot histogram of top-1 softmax \n",
    "\n",
    "    top_1 = [top_1 for _,top_1 in samples_true]\n",
    "    \"\"\" \n",
    "    plt.hist(top_1,bins=20,edgecolor='black')\n",
    "    plt.title(f'Top-1 softmax Histogram for class {i}')\n",
    "    plt.xlabel('Value')\n",
    "    plt.ylabel('Frequency')\n",
    "    plt.savefig(f'top_1_hist_class_{i}.png')\n",
    "    plt.show()\n",
    "    \"\"\"\n",
    "    num_samples = 29  # Number of samples to keep\n",
    "    bins = np.histogram_bin_edges(top_1, bins=20)  # Define bin edges\n",
    "    bin_indices = np.digitize(top_1, bins)  # Assign scores to bins\n",
    "\n",
    "    sub_samples = []\n",
    "\n",
    "    for b in range(1, len(bins)):\n",
    "        bin_samples = [(x, score) for (x, score), bin_idx in zip(samples_true, bin_indices) if bin_idx == b]\n",
    "        if bin_samples:\n",
    "            # Subsample from the bin to keep the same distribution\n",
    "            subsampled_bin_samples = resample(bin_samples, replace=False, n_samples=int(np.round(len(bin_samples) * num_samples / len(top_1))))\n",
    "            sub_samples.extend(subsampled_bin_samples)\n",
    "            \n",
    "    if len( sub_samples) > num_samples:\n",
    "        sub_samples = resample(sub_samples, replace=False, n_samples=num_samples)\n",
    "    elif len(sub_samples) < num_samples:\n",
    "        additional_samples = resample(samples_true, replace=False, n_samples=num_samples - len(sub_samples))\n",
    "        sub_samples.extend(additional_samples)\n",
    "\n",
    "    # Now `stratified_samples` contains the subsampled data maintaining the original distribution\n",
    "    sub_top_1 = [sub_top_1 for _,sub_top_1 in sub_samples]\n",
    "   \n",
    "    print(len(sub_top_1))\n",
    "    \"\"\" \n",
    "    plt.hist(sub_top_1,edgecolor='black')\n",
    "    plt.title(f'Top-1 softmax Histogram for class {i} and subsamples')\n",
    "    plt.xlabel('Value')\n",
    "    plt.ylabel('Frequency')\n",
    "    plt.savefig(f'sub_top_1_hist_class_{i}.png')\n",
    "    plt.show()\n",
    "    \"\"\"\n",
    "    label_1 = []\n",
    "    for j in range(29):\n",
    "        label_1.append(i)\n",
    "    y=  tf.keras.utils.to_categorical(label_1, num_classes=10)\n",
    "    ds_true= tf.data.Dataset.from_tensor_slices(([x.numpy() for x,_ in sub_samples], y))\n",
    "    new_ds_true = ds_true.map(reshape_y)\n",
    "    \n",
    "    # find 1 image from samples_false\n",
    "    pred_labels_false = [np.argmax(sample[1]) for sample in samples_false]\n",
    "    counter = Counter(pred_labels_false)\n",
    "    common_label, common_count = counter.most_common(1)[0]\n",
    "    print(f\"for class{i} most common misclassified class= {common_label},count={common_count}\")\n",
    "    list_false=[]\n",
    "    for sample in samples_false:\n",
    "        if np.argmax(sample[1]) == common_label:\n",
    "            list_false.append(sample)\n",
    "            break \n",
    "    \n",
    "    label_2 = tf.keras.utils.to_categorical(i, num_classes=10)\n",
    "    a = []\n",
    "    a.append(label_2)\n",
    "    image = [sample[0] for sample in list_false]\n",
    "    ds_false = tf.data.Dataset.from_tensor_slices((image,a)) \n",
    "    new_ds_false =  ds_false.map(reshape_y) \n",
    "    \n",
    "    sampled_test = new_ds_true.concatenate(new_ds_false)\n",
    "    arr = []\n",
    "    \n",
    "    for x,_ in sampled_test:\n",
    "        arr.append(x.numpy())\n",
    "    output_zip_path = f'/kaggle/working/ds_test_subsampled_{i}'\n",
    "    save_images(arr, output_zip_path, image_format='PNG')\n",
    "   \n",
    "\n",
    "    sampled_datasets.append(sampled_test)\n",
    "        \n",
    "ds_test_sampled = sampled_datasets[0]\n",
    "for ds in sampled_datasets[1:]:\n",
    "    ds_test_sampled = ds_test_sampled.concatenate(ds) \n",
    "    \n",
    "\n",
    "    \n",
    "    \n"
   ]
  },
  {
   "cell_type": "markdown",
   "id": "a65fda97",
   "metadata": {
    "papermill": {
     "duration": 0.022126,
     "end_time": "2024-08-29T11:07:36.878460",
     "exception": false,
     "start_time": "2024-08-29T11:07:36.856334",
     "status": "completed"
    },
    "tags": []
   },
   "source": [
    "Applying evaluation of model in stratified dataset and subsampling dataset for experiment where we found the optimal number of m samples for On Device Training"
   ]
  },
  {
   "cell_type": "code",
   "execution_count": 20,
   "id": "f4d0bbe3",
   "metadata": {
    "execution": {
     "iopub.execute_input": "2024-08-29T11:07:36.924460Z",
     "iopub.status.busy": "2024-08-29T11:07:36.924149Z",
     "iopub.status.idle": "2024-08-29T11:07:36.930990Z",
     "shell.execute_reply": "2024-08-29T11:07:36.930229Z"
    },
    "papermill": {
     "duration": 0.031925,
     "end_time": "2024-08-29T11:07:36.932799",
     "exception": false,
     "start_time": "2024-08-29T11:07:36.900874",
     "status": "completed"
    },
    "tags": []
   },
   "outputs": [],
   "source": [
    "import tensorflow as tf\n",
    "import numpy as np\n",
    "import random\n",
    "\n",
    "classes = [0,1,2,3,4,5,6,7,8]\n",
    "\n",
    "def get_unique_images(classes,dataset):\n",
    "    labels = tf.keras.utils.to_categorical(classes, num_classes=10)\n",
    "    images_labels = []\n",
    "    for x, y in dataset:\n",
    "        if y in labels and not any(np.array_equal(y.numpy(), item[1].numpy()) for item in images_labels): \n",
    "            images_labels.append((x, y))\n",
    "        if len([item[1] for item in images_labels]) == len(classes):\n",
    "            break\n",
    "    \n",
    "    return images_labels\n",
    "    "
   ]
  },
  {
   "cell_type": "code",
   "execution_count": 21,
   "id": "a3cd1838",
   "metadata": {
    "execution": {
     "iopub.execute_input": "2024-08-29T11:07:36.978479Z",
     "iopub.status.busy": "2024-08-29T11:07:36.977821Z",
     "iopub.status.idle": "2024-08-29T11:07:36.984377Z",
     "shell.execute_reply": "2024-08-29T11:07:36.983698Z"
    },
    "papermill": {
     "duration": 0.031423,
     "end_time": "2024-08-29T11:07:36.986270",
     "exception": false,
     "start_time": "2024-08-29T11:07:36.954847",
     "status": "completed"
    },
    "tags": []
   },
   "outputs": [],
   "source": [
    "classes = [0,1,2,3,4,5,6,7,8]\n",
    "\n",
    "def take_samples(num, dataset):\n",
    "    labels = tf.keras.utils.to_categorical(classes, num_classes=10)\n",
    "    images_labels = []\n",
    "    samples_per_class = {cls: 0 for cls in classes}\n",
    "    for x, y in dataset:\n",
    "        if y in labels and samples_per_class[np.argmax(y)] < num:\n",
    "            images_labels.append((x, y))\n",
    "            samples_per_class[np.argmax(y)] += 1\n",
    "        if all(count == num for count in samples_per_class.values()):\n",
    "              break\n",
    "    \n",
    "    return images_labels"
   ]
  },
  {
   "cell_type": "code",
   "execution_count": 22,
   "id": "da77870c",
   "metadata": {
    "execution": {
     "iopub.execute_input": "2024-08-29T11:07:37.031603Z",
     "iopub.status.busy": "2024-08-29T11:07:37.031333Z",
     "iopub.status.idle": "2024-08-29T11:07:37.036059Z",
     "shell.execute_reply": "2024-08-29T11:07:37.035256Z"
    },
    "papermill": {
     "duration": 0.029377,
     "end_time": "2024-08-29T11:07:37.037802",
     "exception": false,
     "start_time": "2024-08-29T11:07:37.008425",
     "status": "completed"
    },
    "tags": []
   },
   "outputs": [],
   "source": [
    "class PrintLossCallback(tf.keras.callbacks.Callback):\n",
    "    def on_epoch_end(self, epoch, logs=None):\n",
    "        print(f\"Epoch {epoch+1}: loss = {logs['loss']}, accuracy = {logs['accuracy']}\")\n",
    "    \n",
    "    def on_batch_end(self, batch, logs=None):\n",
    "        print(f\"Batch {batch+1}: loss = {logs['loss']}\")"
   ]
  },
  {
   "cell_type": "code",
   "execution_count": 23,
   "id": "9c4823e6",
   "metadata": {
    "execution": {
     "iopub.execute_input": "2024-08-29T11:07:37.083625Z",
     "iopub.status.busy": "2024-08-29T11:07:37.083160Z",
     "iopub.status.idle": "2024-08-29T11:07:37.109018Z",
     "shell.execute_reply": "2024-08-29T11:07:37.108172Z"
    },
    "papermill": {
     "duration": 0.051086,
     "end_time": "2024-08-29T11:07:37.110867",
     "exception": false,
     "start_time": "2024-08-29T11:07:37.059781",
     "status": "completed"
    },
    "tags": []
   },
   "outputs": [],
   "source": [
    "import time\n",
    "import random\n",
    "\n",
    "Time = []\n",
    "def Stratified(): \n",
    "    model = load_model(\"/kaggle/input/cifar9_95acc/tensorflow2/cifar9_95acc/1/mnv2_cifar9_160_fbn_4.keras\")\n",
    "    opt = keras.optimizers.Adam(learning_rate=0.000001, epsilon=0.002, amsgrad=True, weight_decay=1e-5)\n",
    "    loss = keras.losses.CategoricalCrossentropy(label_smoothing=0.1)\n",
    "    model.compile(optimizer=opt, loss=loss, metrics=[\"accuracy\"])\n",
    "    acc_nm = []\n",
    "    acc_n_stratified = []\n",
    "    acc_n_subsampling = []\n",
    "    acc_m = []\n",
    "    loss_nm = []\n",
    "    loss_n_stratified = []\n",
    "    loss_n_subsampling = []\n",
    "    loss_m = []\n",
    "    counter = 1e10\n",
    "    i = 0\n",
    "    c = 0 # for counting the total number of training steps\n",
    "    case = True\n",
    "    a = 0 \n",
    "    dataset_n = take_samples(5, ds_train_n)\n",
    "    m_dict = {}\n",
    "    var = False \n",
    "    while(case):\n",
    "        \n",
    "        print(i+1)\n",
    "        m_data = ds_train_m.take(1)\n",
    "        \n",
    "        if m_data not in list(m_dict.keys()):\n",
    "            \n",
    "            ds_n = random.sample(dataset_n, 4)\n",
    "            x_n = [item[0] for item in ds_n]\n",
    "            y_n = [item[1] for item in ds_n]\n",
    "            ds_n = tf.data.Dataset.from_tensor_slices((x_n,y_n))\n",
    "            ds = m_data.concatenate(ds_n)\n",
    "            \n",
    "            start_time = time.time()\n",
    "            model.fit(ds, epochs=1 )\n",
    "            end_time = time.time()\n",
    "            elapsed_time = end_time - start_time\n",
    "            Time.append(elapsed_time)\n",
    "            c += 1\n",
    "            \n",
    "            k = random.randint(5, 10)\n",
    "            m_dict[m_data] = i+k # next i that this image needs to be used again\n",
    "            \n",
    "            # Stratified Sampling \n",
    "            loss_n_str, accuracy_n_stratified = model.evaluate(ds_test_stratified, verbose=0)\n",
    "            print(\"Test accuracy on n for stratified Sampling: {}%\".format(round(accuracy_n_stratified*100, 2)))\n",
    "            acc_n_stratified.append(accuracy_n_stratified)\n",
    "            loss_n_stratified.append(loss_n_str)\n",
    "            # m classes\n",
    "            loss_m_, accuracy_m = model.evaluate(ds_test_m, verbose=0)\n",
    "            print(\"Test accuracy on m: {}%\".format(round(accuracy_m*100, 2)))\n",
    "            acc_m.append(accuracy_m)\n",
    "            loss_m.append(loss_m_)\n",
    "            \n",
    "            # check ending condition\n",
    "            if abs(accuracy_n_stratified - accuracy_m) <= 0.02:\n",
    "                if not var:\n",
    "                    counter = i+ 25\n",
    "                var = True \n",
    "                print(\"For Stratified Sampling, the accuracies were equal in iteration {} with total training steps={}, accuracy={}, and m_samples={}\".format(i+1, c, accuracy_m, len(m_dict.keys())))\n",
    "\n",
    "            # check stored images from m\n",
    "            for m_data, next_i in m_dict.items():       \n",
    "                if next_i == i:\n",
    "                    \n",
    "                    # update i\n",
    "                    k = random.randint(5, 10)\n",
    "                    m_dict[m_data] += k # next i that this image needs to be used again\n",
    "                    \n",
    "                    # generate a new 4-sample dataset from n-dataset again\n",
    "                    ds_n = random.sample(dataset_n, 4)\n",
    "                    x_n = [item[0] for item in ds_n]\n",
    "                    y_n = [item[1] for item in ds_n]\n",
    "                    ds_n = tf.data.Dataset.from_tensor_slices((x_n,y_n))\n",
    "                    ds_new = m_data.concatenate(ds_n)\n",
    "                    \n",
    "                    # fit\n",
    "                    start_time = time.time()\n",
    "                    model.fit(ds_new, epochs=1)\n",
    "                    end_time = time.time()\n",
    "                    elapsed_time = end_time - start_time\n",
    "                    Time.append(elapsed_time)\n",
    "                    c += 1\n",
    "                    \n",
    "\n",
    "                    # Stratified Sampling \n",
    "                    loss_n_str, accuracy_n_str = model.evaluate( ds_test_stratified, verbose=0)\n",
    "                    print(\"Test accuracy on n for stratified Sampling: {}%\".format(round(accuracy_n_str*100, 2)))\n",
    "                    acc_n_stratified.append(accuracy_n_str)\n",
    "                    loss_n_stratified.append(loss_n_str)\n",
    "                   \n",
    "\n",
    "                    loss_m_, accuracy_m = model.evaluate(ds_test_m, verbose=0)\n",
    "                    print(\"Test accuracy on m: {}%\".format(round(accuracy_m*100, 2)))\n",
    "                    acc_m.append(accuracy_m)\n",
    "                    loss_m.append(loss_m_)\n",
    "\n",
    "                    \n",
    "                    if abs(accuracy_n_str - accuracy_m) <= 0.02:\n",
    "                        if not var:\n",
    "                            counter = i + 25\n",
    "                        var = True \n",
    "                        print(\"For Stratified Sampling, the accuracies were equal in iteration {} with total training steps={}, accuracy={}, and m_samples={}\".format(i+1, c, accuracy_m, len(m_dict.keys())))\n",
    "\n",
    "        if len(m_dict.keys()) == 125: \n",
    "            break\n",
    "        i+=1\n",
    "        print()\n",
    "    return acc_n_stratified ,acc_m,loss_n_stratified,loss_m,Time"
   ]
  },
  {
   "cell_type": "code",
   "execution_count": 24,
   "id": "30650dbc",
   "metadata": {
    "execution": {
     "iopub.execute_input": "2024-08-29T11:07:37.156322Z",
     "iopub.status.busy": "2024-08-29T11:07:37.156046Z",
     "iopub.status.idle": "2024-08-29T11:07:37.176295Z",
     "shell.execute_reply": "2024-08-29T11:07:37.175446Z"
    },
    "papermill": {
     "duration": 0.045407,
     "end_time": "2024-08-29T11:07:37.178305",
     "exception": false,
     "start_time": "2024-08-29T11:07:37.132898",
     "status": "completed"
    },
    "tags": []
   },
   "outputs": [],
   "source": [
    "import time\n",
    "Time = []\n",
    "def SubSampling(): \n",
    "    model = load_model(\"/kaggle/input/cifar9_95acc/tensorflow2/cifar9_95acc/1/mnv2_cifar9_160_fbn_4.keras\")\n",
    "    opt = keras.optimizers.Adam(learning_rate=0.000001, epsilon=0.002, amsgrad=True, weight_decay=1e-5)\n",
    "    loss = keras.losses.CategoricalCrossentropy(label_smoothing=0.1)\n",
    "    model.compile(optimizer=opt, loss=loss, metrics=[\"accuracy\"])\n",
    "    acc_nm = []\n",
    "    acc_n_stratified = []\n",
    "    acc_n_subsampling = []\n",
    "    acc_m = []\n",
    "    loss_nm = []\n",
    "    loss_n_stratified = []\n",
    "    loss_n_subsampling = []\n",
    "    loss_m = []\n",
    "    counter = 1e10\n",
    "    i = 0\n",
    "    c = 0 # for counting the total number of training steps\n",
    "    case = True\n",
    "    a = 0 \n",
    "    dataset_n = take_samples(5, ds_train_n)\n",
    "    m_dict = {}\n",
    "    var = False \n",
    "    while(case):\n",
    "        \n",
    "        print(i+1)\n",
    "        m_data = ds_train_m.take(1)\n",
    "        \n",
    "        if m_data not in list(m_dict.keys()):\n",
    "            \n",
    "            ds_n = random.sample(dataset_n, 4)\n",
    "            x_n = [item[0] for item in ds_n]\n",
    "            y_n = [item[1] for item in ds_n]\n",
    "            ds_n = tf.data.Dataset.from_tensor_slices((x_n,y_n))\n",
    "            ds = m_data.concatenate(ds_n)\n",
    "            \n",
    "            start_time = time.time()\n",
    "            model.fit(ds, epochs=1, verbose=0)\n",
    "            end_time = time.time()\n",
    "            elapsed_time = end_time - start_time\n",
    "            Time.append(elapsed_time)\n",
    "            c += 1\n",
    "            \n",
    "            k = random.randint(5, 10)\n",
    "            m_dict[m_data] = i+k # next i that this image needs to be used again\n",
    "\n",
    "           \n",
    "            \n",
    "             # Subsampling \n",
    "            loss_n_Sub , accuracy_n_sub = model.evaluate(ds_test_sampled, verbose=0)\n",
    "            print(\"Test accuracy on n for subsampling: {}%\".format(round(accuracy_n_sub*100, 2)))\n",
    "            acc_n_subsampling.append(accuracy_n_sub)\n",
    "            loss_n_subsampling.append(loss_n_Sub)\n",
    "\n",
    "            loss_m_, accuracy_m = model.evaluate(ds_test_m, verbose=0)\n",
    "            print(\"Test accuracy on m: {}%\".format(round(accuracy_m*100, 2)))\n",
    "            acc_m.append(accuracy_m)\n",
    "            loss_m.append(loss_m_)\n",
    "            \n",
    "            # check ending condition\n",
    "            if abs(accuracy_n_sub  - accuracy_m) <= 0.02:\n",
    "                if not var:\n",
    "                    counter = i+ 25\n",
    "                var = True \n",
    "                print(\"For Subsampling, the accuracies were equal in iteration {} with total training steps={}, accuracy={}, and m_samples={}\".format(i+1, c, accuracy_m, len(m_dict.keys())))\n",
    "\n",
    "            # check stored images from m\n",
    "            for m_data, next_i in m_dict.items():       \n",
    "                if next_i == i:\n",
    "                    \n",
    "                    # update i\n",
    "                    k = random.randint(5, 10)\n",
    "                    m_dict[m_data] += k # next i that this image needs to be used again\n",
    "                    \n",
    "                    # generate a new 4-sample dataset from n-dataset again\n",
    "                    ds_n = random.sample(dataset_n, 4)\n",
    "                    x_n = [item[0] for item in ds_n]\n",
    "                    y_n = [item[1] for item in ds_n]\n",
    "                    ds_n = tf.data.Dataset.from_tensor_slices((x_n,y_n))\n",
    "                    ds_new = m_data.concatenate(ds_n)\n",
    "                    \n",
    "                    # fit\n",
    "                    start_time = time.time()\n",
    "                    model.fit(ds_new, epochs=1, verbose=0)\n",
    "                    end_time = time.time()\n",
    "                    elapsed_time = end_time - start_time\n",
    "                    Time.append(elapsed_time)\n",
    "                    c += 1\n",
    "                    \n",
    "                    # Subsampling \n",
    "                    loss_n_Sub , accuracy_n_sub = model.evaluate(ds_test_sampled, verbose=0)\n",
    "                    print(\"Test accuracy on n for subsampling: {}%\".format(round(accuracy_n_sub*100, 2)))\n",
    "                    acc_n_subsampling.append(accuracy_n_sub)\n",
    "                    loss_n_subsampling.append(loss_n_Sub)\n",
    "\n",
    "                    loss_m_, accuracy_m = model.evaluate(ds_test_m, verbose=0)\n",
    "                    print(\"Test accuracy on m: {}%\".format(round(accuracy_m*100, 2)))\n",
    "                    acc_m.append(accuracy_m)\n",
    "                    loss_m.append(loss_m_)\n",
    "\n",
    "                    \n",
    "                    if abs(accuracy_n_sub - accuracy_m) <= 0.02:\n",
    "                        if not var:\n",
    "                            counter = i + 25\n",
    "                        var = True \n",
    "                        print(\"For Subsampling, the accuracies were equal in iteration {} with total training steps={}, accuracy={}, and m_samples={}\".format(i+1, c, accuracy_m, len(m_dict.keys())))\n",
    "\n",
    "        if i >= counter: \n",
    "            case = False\n",
    "        i+=1\n",
    "        print()\n",
    "    return acc_n_subsampling, acc_m,loss_n_subsampling,loss_m,Time"
   ]
  },
  {
   "cell_type": "code",
   "execution_count": 25,
   "id": "f7631314",
   "metadata": {
    "execution": {
     "iopub.execute_input": "2024-08-29T11:07:37.224297Z",
     "iopub.status.busy": "2024-08-29T11:07:37.223772Z",
     "iopub.status.idle": "2024-08-29T11:07:37.229672Z",
     "shell.execute_reply": "2024-08-29T11:07:37.228821Z"
    },
    "papermill": {
     "duration": 0.031075,
     "end_time": "2024-08-29T11:07:37.231614",
     "exception": false,
     "start_time": "2024-08-29T11:07:37.200539",
     "status": "completed"
    },
    "tags": []
   },
   "outputs": [
    {
     "data": {
      "text/plain": [
       "' \\nacc_n_stratified ,acc_m,loss_n_stratified,loss_m,Time =  Stratified()\\n \\nplt.plot(acc_n_stratified, label=\"Stratified Sampling in 9 classes\")\\nplt.plot(acc_m, label=\"1 class\")\\nplt.title(\"Accuracy Comparison for stratified sampling in n classes for test dataset\")\\nplt.xlabel(\"Training Steps\")  \\nplt.ylabel(\"Accuracy\")\\nplt.legend()\\nplt.savefig(\\'acc_exp_strat.png\\')\\nplt.show()\\n'"
      ]
     },
     "execution_count": 25,
     "metadata": {},
     "output_type": "execute_result"
    }
   ],
   "source": [
    "\"\"\" \n",
    "acc_n_stratified ,acc_m,loss_n_stratified,loss_m,Time =  Stratified()\n",
    " \n",
    "plt.plot(acc_n_stratified, label=\"Stratified Sampling in 9 classes\")\n",
    "plt.plot(acc_m, label=\"1 class\")\n",
    "plt.title(\"Accuracy Comparison for stratified sampling in n classes for test dataset\")\n",
    "plt.xlabel(\"Training Steps\")  \n",
    "plt.ylabel(\"Accuracy\")\n",
    "plt.legend()\n",
    "plt.savefig('acc_exp_strat.png')\n",
    "plt.show()\n",
    "\"\"\""
   ]
  },
  {
   "cell_type": "code",
   "execution_count": 26,
   "id": "3d234e48",
   "metadata": {
    "execution": {
     "iopub.execute_input": "2024-08-29T11:07:37.278081Z",
     "iopub.status.busy": "2024-08-29T11:07:37.277609Z",
     "iopub.status.idle": "2024-08-29T11:07:37.283798Z",
     "shell.execute_reply": "2024-08-29T11:07:37.282975Z"
    },
    "papermill": {
     "duration": 0.03142,
     "end_time": "2024-08-29T11:07:37.285638",
     "exception": false,
     "start_time": "2024-08-29T11:07:37.254218",
     "status": "completed"
    },
    "tags": []
   },
   "outputs": [
    {
     "data": {
      "text/plain": [
       "' \\nimport matplotlib.pyplot as plt\\nimport os\\n# Define the output paths\\noutput_paths = {\\n    \\'acc_n_stratified\\': \\'/kaggle/working/server_acc_n_stratified.txt\\',\\n    \\'acc_m\\': \\'/kaggle/working/server_acc_m.txt\\',\\n    \\'loss_m\\': \\'/kaggle/working/server_loss_m.txt\\',\\n    \\'Time\\': \\'/kaggle/working/server_time.txt\\'\\n}\\n\\n# Write each list to its corresponding file\\n\\n\\nwith open(output_paths[\\'acc_n_stratified\\'], \\'w\\') as file:\\n    for item in acc_n_stratified:\\n        file.write(f\"{item}\\n\")\\n\\n\\nwith open(output_paths[\\'acc_m\\'], \\'w\\') as file:\\n    for item in acc_m:\\n        file.write(f\"{item}\\n\")\\n\\nwith open(output_paths[\\'loss_m\\'], \\'w\\') as file:\\n    for item in loss_m:\\n        file.write(f\"{item}\\n\")\\n\\nwith open(output_paths[\\'Time\\'], \\'w\\') as file:\\n    for item in Time:\\n        file.write(f\"{item}\\n\")\\n'"
      ]
     },
     "execution_count": 26,
     "metadata": {},
     "output_type": "execute_result"
    }
   ],
   "source": [
    "\"\"\" \n",
    "import matplotlib.pyplot as plt\n",
    "import os\n",
    "# Define the output paths\n",
    "output_paths = {\n",
    "    'acc_n_stratified': '/kaggle/working/server_acc_n_stratified.txt',\n",
    "    'acc_m': '/kaggle/working/server_acc_m.txt',\n",
    "    'loss_m': '/kaggle/working/server_loss_m.txt',\n",
    "    'Time': '/kaggle/working/server_time.txt'\n",
    "}\n",
    "\n",
    "# Write each list to its corresponding file\n",
    "\n",
    "\n",
    "with open(output_paths['acc_n_stratified'], 'w') as file:\n",
    "    for item in acc_n_stratified:\n",
    "        file.write(f\"{item}\\n\")\n",
    "\n",
    "\n",
    "with open(output_paths['acc_m'], 'w') as file:\n",
    "    for item in acc_m:\n",
    "        file.write(f\"{item}\\n\")\n",
    "\n",
    "with open(output_paths['loss_m'], 'w') as file:\n",
    "    for item in loss_m:\n",
    "        file.write(f\"{item}\\n\")\n",
    "\n",
    "with open(output_paths['Time'], 'w') as file:\n",
    "    for item in Time:\n",
    "        file.write(f\"{item}\\n\")\n",
    "\"\"\""
   ]
  },
  {
   "cell_type": "code",
   "execution_count": 27,
   "id": "814698b9",
   "metadata": {
    "execution": {
     "iopub.execute_input": "2024-08-29T11:07:37.331848Z",
     "iopub.status.busy": "2024-08-29T11:07:37.331555Z",
     "iopub.status.idle": "2024-08-29T11:07:37.337227Z",
     "shell.execute_reply": "2024-08-29T11:07:37.336353Z"
    },
    "papermill": {
     "duration": 0.031052,
     "end_time": "2024-08-29T11:07:37.339122",
     "exception": false,
     "start_time": "2024-08-29T11:07:37.308070",
     "status": "completed"
    },
    "tags": []
   },
   "outputs": [
    {
     "data": {
      "text/plain": [
       "'\\nplt.plot(loss_n_stratified, label=\"Stratified Sampling\")\\nplt.plot(loss_m, label=\"1 class\")\\nplt.title(\"Loss Comparison for stratified sampling in n classes for test dataset\")\\nplt.xlabel(\"Training Steps\")  \\nplt.ylabel(\"Loss\")\\nplt.legend()\\nplt.savefig(\\'loss_exp_strat_sub.png\\')\\nplt.show()\\n'"
      ]
     },
     "execution_count": 27,
     "metadata": {},
     "output_type": "execute_result"
    }
   ],
   "source": [
    " \"\"\"\n",
    "plt.plot(loss_n_stratified, label=\"Stratified Sampling\")\n",
    "plt.plot(loss_m, label=\"1 class\")\n",
    "plt.title(\"Loss Comparison for stratified sampling in n classes for test dataset\")\n",
    "plt.xlabel(\"Training Steps\")  \n",
    "plt.ylabel(\"Loss\")\n",
    "plt.legend()\n",
    "plt.savefig('loss_exp_strat_sub.png')\n",
    "plt.show()\n",
    "\"\"\""
   ]
  },
  {
   "cell_type": "code",
   "execution_count": 28,
   "id": "d0255d85",
   "metadata": {
    "execution": {
     "iopub.execute_input": "2024-08-29T11:07:37.386022Z",
     "iopub.status.busy": "2024-08-29T11:07:37.385761Z",
     "iopub.status.idle": "2024-08-29T11:07:37.391155Z",
     "shell.execute_reply": "2024-08-29T11:07:37.390402Z"
    },
    "papermill": {
     "duration": 0.031044,
     "end_time": "2024-08-29T11:07:37.393159",
     "exception": false,
     "start_time": "2024-08-29T11:07:37.362115",
     "status": "completed"
    },
    "tags": []
   },
   "outputs": [
    {
     "data": {
      "text/plain": [
       "' \\nplt.plot(Time)\\nplt.title(\"Time needed for trainining process with Stratified Sampling\")\\nplt.xlabel(\"Traininng Steps\")  \\nplt.ylabel(\"Time\")\\nplt.legend()\\nplt.savefig(\\'Time_exp_strat_sub.png\\')\\nplt.show()\\n'"
      ]
     },
     "execution_count": 28,
     "metadata": {},
     "output_type": "execute_result"
    }
   ],
   "source": [
    "\"\"\" \n",
    "plt.plot(Time)\n",
    "plt.title(\"Time needed for trainining process with Stratified Sampling\")\n",
    "plt.xlabel(\"Traininng Steps\")  \n",
    "plt.ylabel(\"Time\")\n",
    "plt.legend()\n",
    "plt.savefig('Time_exp_strat_sub.png')\n",
    "plt.show()\n",
    "\"\"\""
   ]
  },
  {
   "cell_type": "code",
   "execution_count": 29,
   "id": "8db7e6e6",
   "metadata": {
    "execution": {
     "iopub.execute_input": "2024-08-29T11:07:37.439879Z",
     "iopub.status.busy": "2024-08-29T11:07:37.439630Z",
     "iopub.status.idle": "2024-08-29T11:07:37.445062Z",
     "shell.execute_reply": "2024-08-29T11:07:37.444253Z"
    },
    "papermill": {
     "duration": 0.030982,
     "end_time": "2024-08-29T11:07:37.446999",
     "exception": false,
     "start_time": "2024-08-29T11:07:37.416017",
     "status": "completed"
    },
    "tags": []
   },
   "outputs": [
    {
     "data": {
      "text/plain": [
       "'\\nacc_n_subsampling, acc_m,loss_n_subsampling,loss_m,Time =  SubSampling()\\nplt.plot(acc_n_subsampling, label=\"Stratified Sampling in 9 classes\")\\nplt.plot(acc_m, label=\"1 class\")\\nplt.title(\"Accuracy Comparison for Subsampling in n classes for test dataset\")\\nplt.xlabel(\"Training Steps\")  \\nplt.ylabel(\"Accuracy\")\\nplt.legend()\\nplt.savefig(\\'acc_exp_sub.png\\')\\nplt.show()\\n'"
      ]
     },
     "execution_count": 29,
     "metadata": {},
     "output_type": "execute_result"
    }
   ],
   "source": [
    "\"\"\"\n",
    "acc_n_subsampling, acc_m,loss_n_subsampling,loss_m,Time =  SubSampling()\n",
    "plt.plot(acc_n_subsampling, label=\"Stratified Sampling in 9 classes\")\n",
    "plt.plot(acc_m, label=\"1 class\")\n",
    "plt.title(\"Accuracy Comparison for Subsampling in n classes for test dataset\")\n",
    "plt.xlabel(\"Training Steps\")  \n",
    "plt.ylabel(\"Accuracy\")\n",
    "plt.legend()\n",
    "plt.savefig('acc_exp_sub.png')\n",
    "plt.show()\n",
    "\"\"\""
   ]
  },
  {
   "cell_type": "code",
   "execution_count": 30,
   "id": "6dcfcdc2",
   "metadata": {
    "execution": {
     "iopub.execute_input": "2024-08-29T11:07:37.494390Z",
     "iopub.status.busy": "2024-08-29T11:07:37.494108Z",
     "iopub.status.idle": "2024-08-29T11:07:37.499646Z",
     "shell.execute_reply": "2024-08-29T11:07:37.498741Z"
    },
    "papermill": {
     "duration": 0.031252,
     "end_time": "2024-08-29T11:07:37.501543",
     "exception": false,
     "start_time": "2024-08-29T11:07:37.470291",
     "status": "completed"
    },
    "tags": []
   },
   "outputs": [
    {
     "data": {
      "text/plain": [
       "'\\nplt.plot(loss_n_subsampling, label=\"SubSampling\")\\nplt.plot(loss_m, label=\"1 class\")\\nplt.title(\"Loss Comparison for subsampling in n classes for test dataset\")\\nplt.xlabel(\"Training Steps\")  \\nplt.ylabel(\"Loss\")\\nplt.legend()\\nplt.savefig(\\'loss_exp_strat_sub.png\\')\\nplt.show()\\n'"
      ]
     },
     "execution_count": 30,
     "metadata": {},
     "output_type": "execute_result"
    }
   ],
   "source": [
    "\"\"\"\n",
    "plt.plot(loss_n_subsampling, label=\"SubSampling\")\n",
    "plt.plot(loss_m, label=\"1 class\")\n",
    "plt.title(\"Loss Comparison for subsampling in n classes for test dataset\")\n",
    "plt.xlabel(\"Training Steps\")  \n",
    "plt.ylabel(\"Loss\")\n",
    "plt.legend()\n",
    "plt.savefig('loss_exp_strat_sub.png')\n",
    "plt.show()\n",
    "\"\"\""
   ]
  },
  {
   "cell_type": "code",
   "execution_count": 31,
   "id": "83f58eb8",
   "metadata": {
    "execution": {
     "iopub.execute_input": "2024-08-29T11:07:37.548783Z",
     "iopub.status.busy": "2024-08-29T11:07:37.548542Z",
     "iopub.status.idle": "2024-08-29T11:07:37.553757Z",
     "shell.execute_reply": "2024-08-29T11:07:37.552973Z"
    },
    "papermill": {
     "duration": 0.031006,
     "end_time": "2024-08-29T11:07:37.555629",
     "exception": false,
     "start_time": "2024-08-29T11:07:37.524623",
     "status": "completed"
    },
    "tags": []
   },
   "outputs": [
    {
     "data": {
      "text/plain": [
       "'\\nplt.plot(Time)\\nplt.title(\"Time needed for trainining process with SubSampling\")\\nplt.xlabel(\"Traininng Steps\")  \\nplt.ylabel(\"Time\")\\nplt.legend()\\nplt.savefig(\\'Time_exp_strat_sub.png\\')\\nplt.show()\\n'"
      ]
     },
     "execution_count": 31,
     "metadata": {},
     "output_type": "execute_result"
    }
   ],
   "source": [
    "\"\"\"\n",
    "plt.plot(Time)\n",
    "plt.title(\"Time needed for trainining process with SubSampling\")\n",
    "plt.xlabel(\"Traininng Steps\")  \n",
    "plt.ylabel(\"Time\")\n",
    "plt.legend()\n",
    "plt.savefig('Time_exp_strat_sub.png')\n",
    "plt.show()\n",
    "\"\"\""
   ]
  },
  {
   "cell_type": "markdown",
   "id": "931a8988",
   "metadata": {
    "papermill": {
     "duration": 0.024471,
     "end_time": "2024-08-29T11:07:37.604618",
     "exception": false,
     "start_time": "2024-08-29T11:07:37.580147",
     "status": "completed"
    },
    "tags": []
   },
   "source": [
    "**Run for all test datasets**"
   ]
  },
  {
   "cell_type": "code",
   "execution_count": 32,
   "id": "511e522f",
   "metadata": {
    "execution": {
     "iopub.execute_input": "2024-08-29T11:07:37.654896Z",
     "iopub.status.busy": "2024-08-29T11:07:37.654215Z",
     "iopub.status.idle": "2024-08-29T11:07:37.661111Z",
     "shell.execute_reply": "2024-08-29T11:07:37.660250Z"
    },
    "papermill": {
     "duration": 0.034179,
     "end_time": "2024-08-29T11:07:37.663035",
     "exception": false,
     "start_time": "2024-08-29T11:07:37.628856",
     "status": "completed"
    },
    "tags": []
   },
   "outputs": [
    {
     "data": {
      "text/plain": [
       "' \\nimport matplotlib.pyplot as plt\\nimport os\\n\\n# Step 1: Read the data from the text file\\nfile_1 = \\'/kaggle/input/batch-5-121-samples/document_accuracy_m.txt\\'\\nfile_2 = \"/kaggle/input/batch-5-121-samples/document_accuracy_n.txt\"\\nfile_3 = \"/kaggle/input/batch-5-121-samples/document_loss.txt\"\\nfile_4 = \"/kaggle/input/batch-5-121-samples/document_time.txt\"\\noutput_dir = \\'/kaggle/working/\\'\\n\\n\\nm = []\\nn = []\\nnew_loss = []\\ndevice_time = []\\na = [1,2,3,4]\\nwith open(file_1, \\'r\\') as file:\\n    for line in file:\\n        x = float(line.strip())\\n        m.append(x)\\n\\n# Read accuracy_n values\\nwith open(file_2, \\'r\\') as file:\\n    for line in file:\\n        x = float(line.strip())\\n        n.append(x)\\n\\n# Read loss values\\nwith open(file_3, \\'r\\') as file:\\n    for line in file:\\n        x = float(line.strip())\\n        new_loss.append(x)\\n\\n# Read time values\\nwith open(file_4, \\'r\\') as file:\\n    for line in file:\\n        x = float(line.strip())\\n        device_time.append(x)\\ndel device_time[0]\\n'"
      ]
     },
     "execution_count": 32,
     "metadata": {},
     "output_type": "execute_result"
    }
   ],
   "source": [
    "\"\"\" \n",
    "import matplotlib.pyplot as plt\n",
    "import os\n",
    "\n",
    "# Step 1: Read the data from the text file\n",
    "file_1 = '/kaggle/input/batch-5-121-samples/document_accuracy_m.txt'\n",
    "file_2 = \"/kaggle/input/batch-5-121-samples/document_accuracy_n.txt\"\n",
    "file_3 = \"/kaggle/input/batch-5-121-samples/document_loss.txt\"\n",
    "file_4 = \"/kaggle/input/batch-5-121-samples/document_time.txt\"\n",
    "output_dir = '/kaggle/working/'\n",
    "\n",
    "\n",
    "m = []\n",
    "n = []\n",
    "new_loss = []\n",
    "device_time = []\n",
    "a = [1,2,3,4]\n",
    "with open(file_1, 'r') as file:\n",
    "    for line in file:\n",
    "        x = float(line.strip())\n",
    "        m.append(x)\n",
    "\n",
    "# Read accuracy_n values\n",
    "with open(file_2, 'r') as file:\n",
    "    for line in file:\n",
    "        x = float(line.strip())\n",
    "        n.append(x)\n",
    "\n",
    "# Read loss values\n",
    "with open(file_3, 'r') as file:\n",
    "    for line in file:\n",
    "        x = float(line.strip())\n",
    "        new_loss.append(x)\n",
    "\n",
    "# Read time values\n",
    "with open(file_4, 'r') as file:\n",
    "    for line in file:\n",
    "        x = float(line.strip())\n",
    "        device_time.append(x)\n",
    "del device_time[0]\n",
    "\"\"\""
   ]
  },
  {
   "cell_type": "code",
   "execution_count": 33,
   "id": "0a77454a",
   "metadata": {
    "execution": {
     "iopub.execute_input": "2024-08-29T11:07:37.713329Z",
     "iopub.status.busy": "2024-08-29T11:07:37.712535Z",
     "iopub.status.idle": "2024-08-29T11:07:37.743354Z",
     "shell.execute_reply": "2024-08-29T11:07:37.742474Z"
    },
    "papermill": {
     "duration": 0.058287,
     "end_time": "2024-08-29T11:07:37.745415",
     "exception": false,
     "start_time": "2024-08-29T11:07:37.687128",
     "status": "completed"
    },
    "tags": []
   },
   "outputs": [],
   "source": [
    "import time\n",
    "Time = []\n",
    "def AllTests(): \n",
    "    model = load_model(\"/kaggle/input/cifar9_95acc/tensorflow2/cifar9_95acc/1/mnv2_cifar9_160_fbn_4.keras\")\n",
    "    opt = keras.optimizers.Adam(learning_rate=1.4e-5, epsilon=0.002, amsgrad=True, weight_decay=1e-5)\n",
    "    loss = keras.losses.CategoricalCrossentropy(label_smoothing=0.1)\n",
    "    model.compile(optimizer=opt, loss=loss, metrics=[\"accuracy\"])\n",
    "    loss_n=[]\n",
    "    acc_n = []\n",
    "    acc_nm = []\n",
    "    acc_n_stratified = []\n",
    "    acc_n_subsampling = []\n",
    "    acc_m = []\n",
    "    loss_nm = []\n",
    "    loss_n_stratified = []\n",
    "    loss_n_subsampling = []\n",
    "    loss_m = []\n",
    "    counter = 1e10\n",
    "    i = 0\n",
    "    c = 0 # for counting the total number of training steps\n",
    "    case = True\n",
    "    a = 0 \n",
    "    dataset_n = take_samples(5, ds_train_n)\n",
    "    m_dict = {}\n",
    "    var = False \n",
    "    while(case):\n",
    "        \n",
    "        print(i+1)\n",
    "        m_data = ds_train_m.take(1)\n",
    "        \n",
    "        if m_data not in list(m_dict.keys()):\n",
    "            \n",
    "            ds_n = random.sample(dataset_n, 4)\n",
    "            x_n = [item[0] for item in ds_n]\n",
    "            y_n = [item[1] for item in ds_n]\n",
    "            ds_n = tf.data.Dataset.from_tensor_slices((x_n,y_n))\n",
    "            ds = m_data.concatenate(ds_n)\n",
    "            \n",
    "            start_time = time.time()\n",
    "            history = model.fit(ds, epochs=1, verbose=0)\n",
    "            end_time = time.time()\n",
    "            elapsed_time = end_time - start_time\n",
    "            Time.append(elapsed_time)\n",
    "            c += 1\n",
    "            \n",
    "            k = random.randint(5, 10)\n",
    "            m_dict[m_data] = i+k # next i that this image needs to be used again\n",
    "\n",
    "            loss, accuracy_n = model.evaluate(ds_test_n, verbose=0)\n",
    "            print(\"Test accuracy on n: {}%\".format(round(accuracy_n*100, 2)))\n",
    "            acc_n.append(accuracy_n)\n",
    "            loss_n.append(loss)\n",
    "            \n",
    "            # Stratified Sampling \n",
    "            loss_n_str, accuracy_n_stratified = model.evaluate(ds_test_stratified, verbose=0)\n",
    "            print(\"Test accuracy on n for stratified Sampling: {}%\".format(round(accuracy_n_stratified*100, 2)))\n",
    "            acc_n_stratified.append(accuracy_n_stratified)\n",
    "            loss_n_stratified.append(loss_n_str)\n",
    "            \n",
    "             # Subsampling \n",
    "            loss_n_Sub , accuracy_n_sub = model.evaluate(ds_test_sampled, verbose=0)\n",
    "            print(\"Test accuracy on n for subsampling: {}%\".format(round(accuracy_n_sub*100, 2)))\n",
    "            acc_n_subsampling.append(accuracy_n_sub)\n",
    "            loss_n_subsampling.append(loss_n_Sub)\n",
    "\n",
    "            loss_m_, accuracy_m = model.evaluate(ds_test_m, verbose=0)\n",
    "            print(\"Test accuracy on m: {}%\".format(round(accuracy_m*100, 2)))\n",
    "            acc_m.append(accuracy_m)\n",
    "            loss_m.append(loss_m_)\n",
    "            \n",
    "            # check ending condition\n",
    "            if abs(accuracy_n - accuracy_m) <= 0.02:\n",
    "                print(\"For Original Test set, the accuracies were equal in iteration {} with total training steps={}, accuracy={}, and m_samples={}\".format(i+1, c,accuracy_n, len(m_dict.keys())))\n",
    "                if not var:\n",
    "                    counter =  i + 5\n",
    "                var = True  \n",
    "            if abs(accuracy_n_stratified - accuracy_m) <= 0.02:\n",
    "                print(\"For Stratified sampling, the accuracies were equal in iteration {} with total training steps={}, accuracy={}, and m_samples={}\".format(i+1, c, accuracy_m, len(m_dict.keys())))\n",
    "                if not var:\n",
    "                    counter =  i + 5\n",
    "                var = True \n",
    "            if abs(accuracy_n_sub - accuracy_m) <= 0.02:\n",
    "                print(\"For Subsampling, the accuracies were equal in iteration {} with total training steps={}, accuracy={}, and m_samples={}\".format(i+1, c, accuracy_m, len(m_dict.keys())))\n",
    "                if not var:\n",
    "                    counter =  i + 5\n",
    "                var = True \n",
    "            # check stored images from m\n",
    "            for m_data, next_i in m_dict.items():       \n",
    "                if next_i == i:\n",
    "                    \n",
    "                    # update i\n",
    "                    k = random.randint(5, 10)\n",
    "                    m_dict[m_data] += k # next i that this image needs to be used again\n",
    "                    \n",
    "                    # generate a new 4-sample dataset from n-dataset again\n",
    "                    ds_n = random.sample(dataset_n, 4)\n",
    "                    x_n = [item[0] for item in ds_n]\n",
    "                    y_n = [item[1] for item in ds_n]\n",
    "                    ds_n = tf.data.Dataset.from_tensor_slices((x_n,y_n))\n",
    "                    ds_new = m_data.concatenate(ds_n)\n",
    "                    \n",
    "                    # fit\n",
    "                    start_time = time.time()\n",
    "                    history = model.fit(ds_new, epochs=1, verbose=0)\n",
    "                    end_time = time.time()\n",
    "                    elapsed_time = end_time - start_time\n",
    "                    Time.append(elapsed_time)\n",
    "                    c += 1\n",
    "                    \n",
    "                    loss, accuracy_n = model.evaluate(ds_test_n, verbose=0)\n",
    "                    print(\"Test accuracy on n: {}%\".format(round(accuracy_n*100, 2)))\n",
    "                    acc_n.append(accuracy_n)\n",
    "                    loss_n.append(loss)\n",
    "                    \n",
    "                     # Stratified Sampling \n",
    "                    loss_n_str, accuracy_n_stratified = model.evaluate(ds_test_stratified, verbose=0)\n",
    "                    print(\"Test accuracy on n for stratified Sampling: {}%\".format(round(accuracy_n_stratified*100, 2)))\n",
    "                    acc_n_stratified.append(accuracy_n_stratified)\n",
    "                    loss_n_stratified.append(loss_n_str)\n",
    "                    \n",
    "                    # Subsampling \n",
    "                    loss_n_Sub , accuracy_n_sub = model.evaluate(ds_test_sampled, verbose=0)\n",
    "                    print(\"Test accuracy on n for subsampling: {}%\".format(round(accuracy_n_sub*100, 2)))\n",
    "                    acc_n_subsampling.append(accuracy_n_sub)\n",
    "                    loss_n_subsampling.append(loss_n_Sub)\n",
    "\n",
    "                    loss_m_, accuracy_m = model.evaluate(ds_test_m, verbose=0)\n",
    "                    print(\"Test accuracy on m: {}%\".format(round(accuracy_m*100, 2)))\n",
    "                    acc_m.append(accuracy_m)\n",
    "                    loss_m.append(loss_m_)\n",
    "\n",
    "                    if abs(accuracy_n - accuracy_m) <= 0.02:\n",
    "                        print(\"For Original Test set, the accuracies were equal in iteration {} with total training steps={}, accuracy={}, and m_samples={}\".format(i+1, c,accuracy_n, len(m_dict.keys())))\n",
    "                        if not var:\n",
    "                            counter = i + 5\n",
    "                        var = True \n",
    "                    if abs(accuracy_n_stratified - accuracy_m) <= 0.02:\n",
    "                        print(\"For Stratified sampling, the accuracies were equal in iteration {} with total training steps={}, accuracy={}, and m_samples={}\".format(i+1, c, accuracy_m, len(m_dict.keys())))\n",
    "                        if not var:\n",
    "                            counter = i + 5\n",
    "                        var = True \n",
    "                    if abs(accuracy_n_sub - accuracy_m) <= 0.02:\n",
    "                        print(\"For Subsampling, the accuracies were equal in iteration {} with total training steps={}, accuracy={}, and m_samples={}\".format(i+1, c, accuracy_m, len(m_dict.keys())))\n",
    "                        if not var:\n",
    "                            counter =  i + 5\n",
    "                        var = True \n",
    "                    \n",
    "        if i >= counter:  \n",
    "            break\n",
    "        i+=1\n",
    "        print()\n",
    "    return acc_n, acc_n_stratified, acc_n_subsampling, acc_m,loss_n, loss_n_stratified, loss_n_subsampling,loss_m,Time"
   ]
  },
  {
   "cell_type": "code",
   "execution_count": 34,
   "id": "9214662d",
   "metadata": {
    "execution": {
     "iopub.execute_input": "2024-08-29T11:07:37.794888Z",
     "iopub.status.busy": "2024-08-29T11:07:37.794608Z",
     "iopub.status.idle": "2024-08-29T12:13:40.843580Z",
     "shell.execute_reply": "2024-08-29T12:13:40.842537Z"
    },
    "papermill": {
     "duration": 3963.075968,
     "end_time": "2024-08-29T12:13:40.845829",
     "exception": false,
     "start_time": "2024-08-29T11:07:37.769861",
     "status": "completed"
    },
    "tags": []
   },
   "outputs": [
    {
     "name": "stderr",
     "output_type": "stream",
     "text": [
      "/opt/conda/lib/python3.10/site-packages/keras/src/saving/saving_lib.py:415: UserWarning: Skipping variable loading for optimizer 'adam', because it has 164 variables whereas the saved optimizer has 476 variables. \n",
      "  saveable.load_own_variables(weights_store.get(inner_path))\n"
     ]
    },
    {
     "name": "stdout",
     "output_type": "stream",
     "text": [
      "1\n"
     ]
    },
    {
     "name": "stderr",
     "output_type": "stream",
     "text": [
      "/opt/conda/lib/python3.10/contextlib.py:153: UserWarning: Your input ran out of data; interrupting training. Make sure that your dataset or generator can generate at least `steps_per_epoch * epochs` batches. You may need to use the `.repeat()` function when building your dataset.\n",
      "  self.gen.throw(typ, value, traceback)\n"
     ]
    },
    {
     "name": "stdout",
     "output_type": "stream",
     "text": [
      "Test accuracy on n: 95.18%\n",
      "Test accuracy on n for stratified Sampling: 95.93%\n",
      "Test accuracy on n for subsampling: 97.04%\n",
      "Test accuracy on m: 0.0%\n",
      "\n",
      "2\n",
      "Test accuracy on n: 94.71%\n",
      "Test accuracy on n for stratified Sampling: 94.07%\n",
      "Test accuracy on n for subsampling: 96.67%\n",
      "Test accuracy on m: 0.0%\n",
      "\n",
      "3\n",
      "Test accuracy on n: 94.22%\n",
      "Test accuracy on n for stratified Sampling: 93.33%\n",
      "Test accuracy on n for subsampling: 96.67%\n",
      "Test accuracy on m: 0.0%\n",
      "\n",
      "4\n",
      "Test accuracy on n: 94.01%\n",
      "Test accuracy on n for stratified Sampling: 93.33%\n",
      "Test accuracy on n for subsampling: 97.04%\n",
      "Test accuracy on m: 0.0%\n",
      "\n",
      "5\n",
      "Test accuracy on n: 93.87%\n",
      "Test accuracy on n for stratified Sampling: 92.96%\n",
      "Test accuracy on n for subsampling: 97.04%\n",
      "Test accuracy on m: 0.0%\n",
      "\n",
      "6\n",
      "Test accuracy on n: 93.76%\n",
      "Test accuracy on n for stratified Sampling: 92.59%\n",
      "Test accuracy on n for subsampling: 96.67%\n",
      "Test accuracy on m: 0.0%\n",
      "\n",
      "7\n",
      "Test accuracy on n: 93.71%\n",
      "Test accuracy on n for stratified Sampling: 92.59%\n",
      "Test accuracy on n for subsampling: 96.3%\n",
      "Test accuracy on m: 0.0%\n",
      "\n",
      "8\n",
      "Test accuracy on n: 93.8%\n",
      "Test accuracy on n for stratified Sampling: 91.85%\n",
      "Test accuracy on n for subsampling: 96.3%\n",
      "Test accuracy on m: 0.0%\n",
      "Test accuracy on n: 93.91%\n",
      "Test accuracy on n for stratified Sampling: 91.85%\n",
      "Test accuracy on n for subsampling: 96.67%\n",
      "Test accuracy on m: 0.0%\n",
      "Test accuracy on n: 93.92%\n",
      "Test accuracy on n for stratified Sampling: 92.22%\n",
      "Test accuracy on n for subsampling: 97.04%\n",
      "Test accuracy on m: 0.0%\n",
      "\n",
      "9\n",
      "Test accuracy on n: 93.92%\n",
      "Test accuracy on n for stratified Sampling: 92.22%\n",
      "Test accuracy on n for subsampling: 97.41%\n",
      "Test accuracy on m: 0.0%\n",
      "\n",
      "10\n",
      "Test accuracy on n: 93.88%\n",
      "Test accuracy on n for stratified Sampling: 91.85%\n",
      "Test accuracy on n for subsampling: 97.04%\n",
      "Test accuracy on m: 0.0%\n",
      "Test accuracy on n: 93.88%\n",
      "Test accuracy on n for stratified Sampling: 92.22%\n",
      "Test accuracy on n for subsampling: 97.41%\n",
      "Test accuracy on m: 0.0%\n",
      "\n",
      "11\n",
      "Test accuracy on n: 93.92%\n",
      "Test accuracy on n for stratified Sampling: 92.59%\n",
      "Test accuracy on n for subsampling: 97.04%\n",
      "Test accuracy on m: 0.0%\n",
      "Test accuracy on n: 94.09%\n",
      "Test accuracy on n for stratified Sampling: 94.07%\n",
      "Test accuracy on n for subsampling: 97.04%\n",
      "Test accuracy on m: 0.0%\n",
      "Test accuracy on n: 94.12%\n",
      "Test accuracy on n for stratified Sampling: 94.81%\n",
      "Test accuracy on n for subsampling: 97.04%\n",
      "Test accuracy on m: 0.0%\n",
      "\n",
      "12\n",
      "Test accuracy on n: 94.24%\n",
      "Test accuracy on n for stratified Sampling: 94.81%\n",
      "Test accuracy on n for subsampling: 97.04%\n",
      "Test accuracy on m: 0.0%\n",
      "\n",
      "13\n",
      "Test accuracy on n: 94.23%\n",
      "Test accuracy on n for stratified Sampling: 94.44%\n",
      "Test accuracy on n for subsampling: 97.04%\n",
      "Test accuracy on m: 0.0%\n",
      "\n",
      "14\n",
      "Test accuracy on n: 94.11%\n",
      "Test accuracy on n for stratified Sampling: 93.7%\n",
      "Test accuracy on n for subsampling: 97.04%\n",
      "Test accuracy on m: 0.0%\n",
      "Test accuracy on n: 94.01%\n",
      "Test accuracy on n for stratified Sampling: 94.07%\n",
      "Test accuracy on n for subsampling: 96.67%\n",
      "Test accuracy on m: 0.0%\n",
      "\n",
      "15\n",
      "Test accuracy on n: 93.9%\n",
      "Test accuracy on n for stratified Sampling: 94.07%\n",
      "Test accuracy on n for subsampling: 96.67%\n",
      "Test accuracy on m: 0.0%\n",
      "\n",
      "16\n",
      "Test accuracy on n: 93.86%\n",
      "Test accuracy on n for stratified Sampling: 93.7%\n",
      "Test accuracy on n for subsampling: 97.04%\n",
      "Test accuracy on m: 0.0%\n",
      "Test accuracy on n: 93.83%\n",
      "Test accuracy on n for stratified Sampling: 93.33%\n",
      "Test accuracy on n for subsampling: 97.04%\n",
      "Test accuracy on m: 0.0%\n",
      "Test accuracy on n: 93.86%\n",
      "Test accuracy on n for stratified Sampling: 93.7%\n",
      "Test accuracy on n for subsampling: 97.04%\n",
      "Test accuracy on m: 0.0%\n",
      "Test accuracy on n: 93.82%\n",
      "Test accuracy on n for stratified Sampling: 93.7%\n",
      "Test accuracy on n for subsampling: 97.04%\n",
      "Test accuracy on m: 0.0%\n",
      "\n",
      "17\n",
      "Test accuracy on n: 93.79%\n",
      "Test accuracy on n for stratified Sampling: 93.33%\n",
      "Test accuracy on n for subsampling: 96.67%\n",
      "Test accuracy on m: 0.0%\n",
      "Test accuracy on n: 93.57%\n",
      "Test accuracy on n for stratified Sampling: 93.33%\n",
      "Test accuracy on n for subsampling: 96.67%\n",
      "Test accuracy on m: 0.0%\n",
      "Test accuracy on n: 93.49%\n",
      "Test accuracy on n for stratified Sampling: 93.33%\n",
      "Test accuracy on n for subsampling: 96.67%\n",
      "Test accuracy on m: 0.0%\n",
      "\n",
      "18\n",
      "Test accuracy on n: 93.29%\n",
      "Test accuracy on n for stratified Sampling: 93.33%\n",
      "Test accuracy on n for subsampling: 95.93%\n",
      "Test accuracy on m: 0.0%\n",
      "Test accuracy on n: 93.01%\n",
      "Test accuracy on n for stratified Sampling: 93.33%\n",
      "Test accuracy on n for subsampling: 95.56%\n",
      "Test accuracy on m: 0.0%\n",
      "\n",
      "19\n",
      "Test accuracy on n: 93.53%\n",
      "Test accuracy on n for stratified Sampling: 92.96%\n",
      "Test accuracy on n for subsampling: 97.04%\n",
      "Test accuracy on m: 0.1%\n",
      "Test accuracy on n: 93.89%\n",
      "Test accuracy on n for stratified Sampling: 93.33%\n",
      "Test accuracy on n for subsampling: 97.41%\n",
      "Test accuracy on m: 0.2%\n",
      "Test accuracy on n: 93.99%\n",
      "Test accuracy on n for stratified Sampling: 93.7%\n",
      "Test accuracy on n for subsampling: 97.04%\n",
      "Test accuracy on m: 0.8%\n",
      "\n",
      "20\n",
      "Test accuracy on n: 93.9%\n",
      "Test accuracy on n for stratified Sampling: 93.7%\n",
      "Test accuracy on n for subsampling: 97.04%\n",
      "Test accuracy on m: 1.3%\n",
      "Test accuracy on n: 93.84%\n",
      "Test accuracy on n for stratified Sampling: 93.7%\n",
      "Test accuracy on n for subsampling: 97.41%\n",
      "Test accuracy on m: 2.4%\n",
      "Test accuracy on n: 93.77%\n",
      "Test accuracy on n for stratified Sampling: 93.7%\n",
      "Test accuracy on n for subsampling: 97.04%\n",
      "Test accuracy on m: 3.3%\n",
      "Test accuracy on n: 93.88%\n",
      "Test accuracy on n for stratified Sampling: 93.7%\n",
      "Test accuracy on n for subsampling: 97.41%\n",
      "Test accuracy on m: 4.2%\n",
      "Test accuracy on n: 93.99%\n",
      "Test accuracy on n for stratified Sampling: 93.7%\n",
      "Test accuracy on n for subsampling: 97.04%\n",
      "Test accuracy on m: 5.5%\n",
      "\n",
      "21\n",
      "Test accuracy on n: 94.02%\n",
      "Test accuracy on n for stratified Sampling: 93.7%\n",
      "Test accuracy on n for subsampling: 97.04%\n",
      "Test accuracy on m: 8.0%\n",
      "Test accuracy on n: 93.98%\n",
      "Test accuracy on n for stratified Sampling: 94.44%\n",
      "Test accuracy on n for subsampling: 97.04%\n",
      "Test accuracy on m: 10.6%\n",
      "\n",
      "22\n",
      "Test accuracy on n: 93.97%\n",
      "Test accuracy on n for stratified Sampling: 94.07%\n",
      "Test accuracy on n for subsampling: 96.67%\n",
      "Test accuracy on m: 14.7%\n",
      "Test accuracy on n: 94.0%\n",
      "Test accuracy on n for stratified Sampling: 94.07%\n",
      "Test accuracy on n for subsampling: 96.67%\n",
      "Test accuracy on m: 17.6%\n",
      "\n",
      "23\n",
      "Test accuracy on n: 93.98%\n",
      "Test accuracy on n for stratified Sampling: 94.07%\n",
      "Test accuracy on n for subsampling: 96.67%\n",
      "Test accuracy on m: 22.8%\n",
      "Test accuracy on n: 93.9%\n",
      "Test accuracy on n for stratified Sampling: 94.07%\n",
      "Test accuracy on n for subsampling: 96.3%\n",
      "Test accuracy on m: 28.4%\n",
      "Test accuracy on n: 93.46%\n",
      "Test accuracy on n for stratified Sampling: 93.33%\n",
      "Test accuracy on n for subsampling: 95.93%\n",
      "Test accuracy on m: 34.4%\n",
      "Test accuracy on n: 92.94%\n",
      "Test accuracy on n for stratified Sampling: 93.33%\n",
      "Test accuracy on n for subsampling: 95.93%\n",
      "Test accuracy on m: 43.1%\n",
      "\n",
      "24\n",
      "Test accuracy on n: 93.02%\n",
      "Test accuracy on n for stratified Sampling: 92.96%\n",
      "Test accuracy on n for subsampling: 95.93%\n",
      "Test accuracy on m: 44.7%\n",
      "Test accuracy on n: 92.78%\n",
      "Test accuracy on n for stratified Sampling: 92.59%\n",
      "Test accuracy on n for subsampling: 94.81%\n",
      "Test accuracy on m: 47.8%\n",
      "\n",
      "25\n",
      "Test accuracy on n: 92.56%\n",
      "Test accuracy on n for stratified Sampling: 92.22%\n",
      "Test accuracy on n for subsampling: 95.19%\n",
      "Test accuracy on m: 48.9%\n",
      "Test accuracy on n: 92.48%\n",
      "Test accuracy on n for stratified Sampling: 91.48%\n",
      "Test accuracy on n for subsampling: 95.19%\n",
      "Test accuracy on m: 54.5%\n",
      "Test accuracy on n: 92.08%\n",
      "Test accuracy on n for stratified Sampling: 91.11%\n",
      "Test accuracy on n for subsampling: 93.7%\n",
      "Test accuracy on m: 60.3%\n",
      "Test accuracy on n: 91.69%\n",
      "Test accuracy on n for stratified Sampling: 91.48%\n",
      "Test accuracy on n for subsampling: 93.7%\n",
      "Test accuracy on m: 66.4%\n",
      "Test accuracy on n: 91.17%\n",
      "Test accuracy on n for stratified Sampling: 91.11%\n",
      "Test accuracy on n for subsampling: 93.33%\n",
      "Test accuracy on m: 72.4%\n",
      "Test accuracy on n: 90.63%\n",
      "Test accuracy on n for stratified Sampling: 90.37%\n",
      "Test accuracy on n for subsampling: 92.96%\n",
      "Test accuracy on m: 76.1%\n",
      "\n",
      "26\n",
      "Test accuracy on n: 90.13%\n",
      "Test accuracy on n for stratified Sampling: 89.26%\n",
      "Test accuracy on n for subsampling: 92.22%\n",
      "Test accuracy on m: 78.7%\n",
      "Test accuracy on n: 89.82%\n",
      "Test accuracy on n for stratified Sampling: 88.89%\n",
      "Test accuracy on n for subsampling: 92.22%\n",
      "Test accuracy on m: 79.6%\n",
      "Test accuracy on n: 90.01%\n",
      "Test accuracy on n for stratified Sampling: 89.26%\n",
      "Test accuracy on n for subsampling: 92.22%\n",
      "Test accuracy on m: 81.6%\n",
      "\n",
      "27\n",
      "Test accuracy on n: 89.86%\n",
      "Test accuracy on n for stratified Sampling: 89.26%\n",
      "Test accuracy on n for subsampling: 92.22%\n",
      "Test accuracy on m: 83.1%\n",
      "Test accuracy on n: 90.26%\n",
      "Test accuracy on n for stratified Sampling: 89.63%\n",
      "Test accuracy on n for subsampling: 92.22%\n",
      "Test accuracy on m: 82.5%\n",
      "Test accuracy on n: 89.62%\n",
      "Test accuracy on n for stratified Sampling: 89.26%\n",
      "Test accuracy on n for subsampling: 92.22%\n",
      "Test accuracy on m: 86.7%\n",
      "Test accuracy on n: 88.8%\n",
      "Test accuracy on n for stratified Sampling: 88.89%\n",
      "Test accuracy on n for subsampling: 91.48%\n",
      "Test accuracy on m: 90.0%\n",
      "For Original Test set, the accuracies were equal in iteration 27 with total training steps=61, accuracy=0.8880000114440918, and m_samples=27\n",
      "For Stratified sampling, the accuracies were equal in iteration 27 with total training steps=61, accuracy=0.8999999761581421, and m_samples=27\n",
      "For Subsampling, the accuracies were equal in iteration 27 with total training steps=61, accuracy=0.8999999761581421, and m_samples=27\n",
      "Test accuracy on n: 87.91%\n",
      "Test accuracy on n for stratified Sampling: 88.15%\n",
      "Test accuracy on n for subsampling: 90.74%\n",
      "Test accuracy on m: 91.3%\n",
      "For Subsampling, the accuracies were equal in iteration 27 with total training steps=62, accuracy=0.9129999876022339, and m_samples=27\n",
      "Test accuracy on n: 87.2%\n",
      "Test accuracy on n for stratified Sampling: 88.15%\n",
      "Test accuracy on n for subsampling: 90.0%\n",
      "Test accuracy on m: 92.0%\n",
      "\n",
      "28\n",
      "Test accuracy on n: 86.71%\n",
      "Test accuracy on n for stratified Sampling: 88.15%\n",
      "Test accuracy on n for subsampling: 89.26%\n",
      "Test accuracy on m: 93.5%\n",
      "Test accuracy on n: 86.71%\n",
      "Test accuracy on n for stratified Sampling: 87.04%\n",
      "Test accuracy on n for subsampling: 89.26%\n",
      "Test accuracy on m: 92.1%\n",
      "\n",
      "29\n",
      "Test accuracy on n: 86.06%\n",
      "Test accuracy on n for stratified Sampling: 86.67%\n",
      "Test accuracy on n for subsampling: 88.89%\n",
      "Test accuracy on m: 94.5%\n",
      "Test accuracy on n: 85.91%\n",
      "Test accuracy on n for stratified Sampling: 87.04%\n",
      "Test accuracy on n for subsampling: 88.52%\n",
      "Test accuracy on m: 95.2%\n",
      "\n",
      "30\n",
      "Test accuracy on n: 85.04%\n",
      "Test accuracy on n for stratified Sampling: 85.56%\n",
      "Test accuracy on n for subsampling: 85.93%\n",
      "Test accuracy on m: 96.6%\n",
      "Test accuracy on n: 85.32%\n",
      "Test accuracy on n for stratified Sampling: 86.3%\n",
      "Test accuracy on n for subsampling: 86.3%\n",
      "Test accuracy on m: 96.5%\n",
      "Test accuracy on n: 85.88%\n",
      "Test accuracy on n for stratified Sampling: 85.93%\n",
      "Test accuracy on n for subsampling: 89.26%\n",
      "Test accuracy on m: 95.5%\n",
      "Test accuracy on n: 86.27%\n",
      "Test accuracy on n for stratified Sampling: 86.67%\n",
      "Test accuracy on n for subsampling: 89.63%\n",
      "Test accuracy on m: 93.7%\n",
      "\n",
      "31\n",
      "Test accuracy on n: 87.96%\n",
      "Test accuracy on n for stratified Sampling: 88.15%\n",
      "Test accuracy on n for subsampling: 92.22%\n",
      "Test accuracy on m: 87.8%\n",
      "For Original Test set, the accuracies were equal in iteration 31 with total training steps=72, accuracy=0.8795555830001831, and m_samples=31\n",
      "For Stratified sampling, the accuracies were equal in iteration 31 with total training steps=72, accuracy=0.878000020980835, and m_samples=31\n",
      "Test accuracy on n: 88.79%\n",
      "Test accuracy on n for stratified Sampling: 89.26%\n",
      "Test accuracy on n for subsampling: 92.96%\n",
      "Test accuracy on m: 84.9%\n",
      "Test accuracy on n: 89.72%\n",
      "Test accuracy on n for stratified Sampling: 89.63%\n",
      "Test accuracy on n for subsampling: 93.7%\n",
      "Test accuracy on m: 84.2%\n",
      "Test accuracy on n: 89.77%\n",
      "Test accuracy on n for stratified Sampling: 89.63%\n",
      "Test accuracy on n for subsampling: 93.7%\n",
      "Test accuracy on m: 87.0%\n",
      "Test accuracy on n: 89.42%\n",
      "Test accuracy on n for stratified Sampling: 89.63%\n",
      "Test accuracy on n for subsampling: 92.96%\n",
      "Test accuracy on m: 90.7%\n",
      "For Original Test set, the accuracies were equal in iteration 31 with total training steps=76, accuracy=0.8942221999168396, and m_samples=31\n",
      "For Stratified sampling, the accuracies were equal in iteration 31 with total training steps=76, accuracy=0.9070000052452087, and m_samples=31\n",
      "\n",
      "32\n",
      "Test accuracy on n: 88.54%\n",
      "Test accuracy on n for stratified Sampling: 89.63%\n",
      "Test accuracy on n for subsampling: 91.85%\n",
      "Test accuracy on m: 93.9%\n",
      "Test accuracy on n: 88.37%\n",
      "Test accuracy on n for stratified Sampling: 88.89%\n",
      "Test accuracy on n for subsampling: 91.48%\n",
      "Test accuracy on m: 94.5%\n",
      "Test accuracy on n: 88.22%\n",
      "Test accuracy on n for stratified Sampling: 88.89%\n",
      "Test accuracy on n for subsampling: 91.48%\n",
      "Test accuracy on m: 95.1%\n",
      "Test accuracy on n: 88.02%\n",
      "Test accuracy on n for stratified Sampling: 88.89%\n",
      "Test accuracy on n for subsampling: 91.11%\n",
      "Test accuracy on m: 95.1%\n",
      "Test accuracy on n: 88.12%\n",
      "Test accuracy on n for stratified Sampling: 88.89%\n",
      "Test accuracy on n for subsampling: 91.11%\n",
      "Test accuracy on m: 94.9%\n"
     ]
    }
   ],
   "source": [
    "acc_n, acc_n_stratified, acc_n_subsampling, acc_m,loss_n, loss_n_stratified, loss_n_subsampling,loss_m,Time = AllTests()\n"
   ]
  },
  {
   "cell_type": "code",
   "execution_count": 35,
   "id": "2c4f0801",
   "metadata": {
    "execution": {
     "iopub.execute_input": "2024-08-29T12:13:40.944660Z",
     "iopub.status.busy": "2024-08-29T12:13:40.944016Z",
     "iopub.status.idle": "2024-08-29T12:13:41.383574Z",
     "shell.execute_reply": "2024-08-29T12:13:41.382614Z"
    },
    "papermill": {
     "duration": 0.490731,
     "end_time": "2024-08-29T12:13:41.385682",
     "exception": false,
     "start_time": "2024-08-29T12:13:40.894951",
     "status": "completed"
    },
    "tags": []
   },
   "outputs": [
    {
     "data": {
      "image/png": "[encoded data removed]",
      "text/plain": [
       "<Figure size 640x480 with 1 Axes>"
      ]
     },
     "metadata": {},
     "output_type": "display_data"
    }
   ],
   "source": [
    "plt.plot(acc_n, label=\"Original 8 classes\")\n",
    "plt.plot(acc_n_stratified, label=\"Stratified Sampling in 9 classes\")\n",
    "plt.plot(acc_n_subsampling, label=\"Stratified Sampling in 9 classes\")\n",
    "plt.plot(acc_m, label=\"1 class on Server\")\n",
    "plt.xlabel(\"Training Steps\")  \n",
    "plt.ylabel(\"Accuracy\")\n",
    "plt.legend()\n",
    "plt.savefig('comparison_acc_all.png')\n",
    "plt.show()\n"
   ]
  },
  {
   "cell_type": "code",
   "execution_count": 36,
   "id": "c51bf812",
   "metadata": {
    "execution": {
     "iopub.execute_input": "2024-08-29T12:13:41.485943Z",
     "iopub.status.busy": "2024-08-29T12:13:41.485652Z",
     "iopub.status.idle": "2024-08-29T12:13:41.491397Z",
     "shell.execute_reply": "2024-08-29T12:13:41.490526Z"
    },
    "papermill": {
     "duration": 0.057317,
     "end_time": "2024-08-29T12:13:41.493180",
     "exception": false,
     "start_time": "2024-08-29T12:13:41.435863",
     "status": "completed"
    },
    "tags": []
   },
   "outputs": [
    {
     "data": {
      "text/plain": [
       "' \\nplt.plot(history.history[\\'loss\\'], label=\\'Training Loss on Server\\')\\nplt.xlabel(\"Training Steps\")  \\nplt.ylabel(\"Loss\")\\nplt.legend()\\nplt.savefig(\\'training_loss_server.png\\')\\nplt.show()\\n'"
      ]
     },
     "execution_count": 36,
     "metadata": {},
     "output_type": "execute_result"
    }
   ],
   "source": [
    "\"\"\" \n",
    "plt.plot(history.history['loss'], label='Training Loss on Server')\n",
    "plt.xlabel(\"Training Steps\")  \n",
    "plt.ylabel(\"Loss\")\n",
    "plt.legend()\n",
    "plt.savefig('training_loss_server.png')\n",
    "plt.show()\n",
    "\"\"\""
   ]
  },
  {
   "cell_type": "code",
   "execution_count": 37,
   "id": "9c766f3d",
   "metadata": {
    "execution": {
     "iopub.execute_input": "2024-08-29T12:13:41.594494Z",
     "iopub.status.busy": "2024-08-29T12:13:41.593817Z",
     "iopub.status.idle": "2024-08-29T12:13:41.599710Z",
     "shell.execute_reply": "2024-08-29T12:13:41.598840Z"
    },
    "papermill": {
     "duration": 0.058214,
     "end_time": "2024-08-29T12:13:41.601563",
     "exception": false,
     "start_time": "2024-08-29T12:13:41.543349",
     "status": "completed"
    },
    "tags": []
   },
   "outputs": [
    {
     "data": {
      "text/plain": [
       "' \\nplt.plot(history.history[\\'loss\\'], label=\\'Training Loss on Server\\')\\nplt.plot(new_loss, label=\"Training Loss on Device\")\\nplt.xlabel(\"Training Steps\")  \\nplt.ylabel(\"Loss\")\\nplt.legend()\\nplt.savefig(\\'comparison_loss_all.png\\')\\nplt.show()\\n'"
      ]
     },
     "execution_count": 37,
     "metadata": {},
     "output_type": "execute_result"
    }
   ],
   "source": [
    "\"\"\" \n",
    "plt.plot(history.history['loss'], label='Training Loss on Server')\n",
    "plt.plot(new_loss, label=\"Training Loss on Device\")\n",
    "plt.xlabel(\"Training Steps\")  \n",
    "plt.ylabel(\"Loss\")\n",
    "plt.legend()\n",
    "plt.savefig('comparison_loss_all.png')\n",
    "plt.show()\n",
    "\"\"\""
   ]
  },
  {
   "cell_type": "code",
   "execution_count": 38,
   "id": "569c836b",
   "metadata": {
    "execution": {
     "iopub.execute_input": "2024-08-29T12:13:41.707024Z",
     "iopub.status.busy": "2024-08-29T12:13:41.706611Z",
     "iopub.status.idle": "2024-08-29T12:13:42.057802Z",
     "shell.execute_reply": "2024-08-29T12:13:42.056929Z"
    },
    "papermill": {
     "duration": 0.407056,
     "end_time": "2024-08-29T12:13:42.060053",
     "exception": false,
     "start_time": "2024-08-29T12:13:41.652997",
     "status": "completed"
    },
    "tags": []
   },
   "outputs": [
    {
     "data": {
      "image/png": "[encoded data removed]",
      "text/plain": [
       "<Figure size 640x480 with 1 Axes>"
      ]
     },
     "metadata": {},
     "output_type": "display_data"
    }
   ],
   "source": [
    "del Time[0]\n",
    "plt.plot(Time ,label='Training Time on Server')\n",
    "#plt.plot(device_time ,label='Training Time on Device')\n",
    "plt.xlabel(\"Traininng Steps\")  \n",
    "plt.ylabel(\"Time\")\n",
    "plt.legend()\n",
    "plt.savefig('Time_all.png')\n",
    "plt.show()\n"
   ]
  },
  {
   "cell_type": "code",
   "execution_count": 39,
   "id": "3fd28721",
   "metadata": {
    "execution": {
     "iopub.execute_input": "2024-08-29T12:13:42.164648Z",
     "iopub.status.busy": "2024-08-29T12:13:42.164016Z",
     "iopub.status.idle": "2024-08-29T12:13:42.172881Z",
     "shell.execute_reply": "2024-08-29T12:13:42.171965Z"
    },
    "papermill": {
     "duration": 0.062924,
     "end_time": "2024-08-29T12:13:42.174902",
     "exception": false,
     "start_time": "2024-08-29T12:13:42.111978",
     "status": "completed"
    },
    "tags": []
   },
   "outputs": [
    {
     "name": "stdout",
     "output_type": "stream",
     "text": [
      "means= 2.409544897079468\n",
      "median= 2.4065150022506714\n",
      "maximum= 2.5066659450531006\n",
      "minimum = 2.300507068634033\n",
      "90th Percentiles = 2.4427393198013307\n"
     ]
    }
   ],
   "source": [
    "import numpy as np\n",
    "\n",
    "mean = np.mean(Time)\n",
    "median = np.median(Time)\n",
    "maximum = np.max(Time)\n",
    "minimum = np.min(Time)\n",
    "percentile_90 = np.percentile(Time, 90)\n",
    "\n",
    "print(\"means=\",mean)\n",
    "print(\"median=\",median)\n",
    "print(\"maximum=\",maximum)\n",
    "print(\"minimum =\",minimum )\n",
    "print(\"90th Percentiles =\", percentile_90)"
   ]
  },
  {
   "cell_type": "code",
   "execution_count": 40,
   "id": "7cffa4ff",
   "metadata": {
    "execution": {
     "iopub.execute_input": "2024-08-29T12:13:42.278588Z",
     "iopub.status.busy": "2024-08-29T12:13:42.278031Z",
     "iopub.status.idle": "2024-08-29T12:13:42.285714Z",
     "shell.execute_reply": "2024-08-29T12:13:42.284915Z"
    },
    "papermill": {
     "duration": 0.061502,
     "end_time": "2024-08-29T12:13:42.287778",
     "exception": false,
     "start_time": "2024-08-29T12:13:42.226276",
     "status": "completed"
    },
    "tags": []
   },
   "outputs": [
    {
     "data": {
      "text/plain": [
       "' \\n# Define the output paths\\noutput_paths = {\\n    \\'acc_n\\': \\'/kaggle/working/server_acc_n.txt\\',\\n    \\'acc_n_stratified\\': \\'/kaggle/working/server_acc_n_stratified.txt\\',\\n    \\'acc_n_subsampling\\': \\'/kaggle/working/server_acc_n_subsampling.txt\\',\\n    \\'acc_m\\': \\'/kaggle/working/server_acc_m.txt\\',\\n    \\'loss_n\\': \\'/kaggle/working/server_loss_n.txt\\',\\n    \\'loss_n_stratified\\': \\'/kaggle/working/server_loss_n_stratified.txt\\',\\n    \\'loss_n_subsampling\\': \\'/kaggle/working/server_loss_n_subsampling.txt\\',\\n    \\'loss_m\\': \\'/kaggle/working/server_loss_m.txt\\',\\n    \\'Time\\': \\'/kaggle/working/server_time.txt\\'\\n}\\n\\n# Write each list to its corresponding file\\nwith open(output_paths[\\'acc_n\\'], \\'w\\') as file:\\n    for item in acc_n:\\n        file.write(f\"{item}\\n\")\\n\\nwith open(output_paths[\\'acc_n_stratified\\'], \\'w\\') as file:\\n    for item in acc_n_stratified:\\n        file.write(f\"{item}\\n\")\\n\\nwith open(output_paths[\\'acc_n_subsampling\\'], \\'w\\') as file:\\n    for item in acc_n_subsampling:\\n        file.write(f\"{item}\\n\")\\n\\nwith open(output_paths[\\'acc_m\\'], \\'w\\') as file:\\n    for item in acc_m:\\n        file.write(f\"{item}\\n\")\\n\\nwith open(output_paths[\\'loss_n\\'], \\'w\\') as file:\\n    for item in loss_n:\\n        file.write(f\"{item}\\n\")\\n\\nwith open(output_paths[\\'loss_n_stratified\\'], \\'w\\') as file:\\n    for item in loss_n_stratified:\\n        file.write(f\"{item}\\n\")\\n\\nwith open(output_paths[\\'loss_n_subsampling\\'], \\'w\\') as file:\\n    for item in loss_n_subsampling:\\n        file.write(f\"{item}\\n\")\\n\\nwith open(output_paths[\\'loss_m\\'], \\'w\\') as file:\\n    for item in loss_m:\\n        file.write(f\"{item}\\n\")\\n\\nwith open(output_paths[\\'Time\\'], \\'w\\') as file:\\n    for item in Time:\\n        file.write(f\"{item}\\n\")\\n'"
      ]
     },
     "execution_count": 40,
     "metadata": {},
     "output_type": "execute_result"
    }
   ],
   "source": [
    "\"\"\" \n",
    "# Define the output paths\n",
    "output_paths = {\n",
    "    'acc_n': '/kaggle/working/server_acc_n.txt',\n",
    "    'acc_n_stratified': '/kaggle/working/server_acc_n_stratified.txt',\n",
    "    'acc_n_subsampling': '/kaggle/working/server_acc_n_subsampling.txt',\n",
    "    'acc_m': '/kaggle/working/server_acc_m.txt',\n",
    "    'loss_n': '/kaggle/working/server_loss_n.txt',\n",
    "    'loss_n_stratified': '/kaggle/working/server_loss_n_stratified.txt',\n",
    "    'loss_n_subsampling': '/kaggle/working/server_loss_n_subsampling.txt',\n",
    "    'loss_m': '/kaggle/working/server_loss_m.txt',\n",
    "    'Time': '/kaggle/working/server_time.txt'\n",
    "}\n",
    "\n",
    "# Write each list to its corresponding file\n",
    "with open(output_paths['acc_n'], 'w') as file:\n",
    "    for item in acc_n:\n",
    "        file.write(f\"{item}\\n\")\n",
    "\n",
    "with open(output_paths['acc_n_stratified'], 'w') as file:\n",
    "    for item in acc_n_stratified:\n",
    "        file.write(f\"{item}\\n\")\n",
    "\n",
    "with open(output_paths['acc_n_subsampling'], 'w') as file:\n",
    "    for item in acc_n_subsampling:\n",
    "        file.write(f\"{item}\\n\")\n",
    "\n",
    "with open(output_paths['acc_m'], 'w') as file:\n",
    "    for item in acc_m:\n",
    "        file.write(f\"{item}\\n\")\n",
    "\n",
    "with open(output_paths['loss_n'], 'w') as file:\n",
    "    for item in loss_n:\n",
    "        file.write(f\"{item}\\n\")\n",
    "\n",
    "with open(output_paths['loss_n_stratified'], 'w') as file:\n",
    "    for item in loss_n_stratified:\n",
    "        file.write(f\"{item}\\n\")\n",
    "\n",
    "with open(output_paths['loss_n_subsampling'], 'w') as file:\n",
    "    for item in loss_n_subsampling:\n",
    "        file.write(f\"{item}\\n\")\n",
    "\n",
    "with open(output_paths['loss_m'], 'w') as file:\n",
    "    for item in loss_m:\n",
    "        file.write(f\"{item}\\n\")\n",
    "\n",
    "with open(output_paths['Time'], 'w') as file:\n",
    "    for item in Time:\n",
    "        file.write(f\"{item}\\n\")\n",
    "\"\"\" "
   ]
  }
 ],
 "metadata": {
  "kaggle": {
   "accelerator": "gpu",
   "dataSources": [
    {
     "datasetId": 5472560,
     "sourceId": 9072541,
     "sourceType": "datasetVersion"
    },
    {
     "datasetId": 5508924,
     "sourceId": 9125092,
     "sourceType": "datasetVersion"
    },
    {
     "isSourceIdPinned": true,
     "modelId": 28643,
     "modelInstanceId": 18752,
     "sourceId": 22624,
     "sourceType": "modelInstanceVersion"
    }
   ],
   "dockerImageVersionId": 30732,
   "isGpuEnabled": true,
   "isInternetEnabled": true,
   "language": "python",
   "sourceType": "notebook"
  },
  "kernelspec": {
   "display_name": "Python 3",
   "language": "python",
   "name": "python3"
  },
  "language_info": {
   "codemirror_mode": {
    "name": "ipython",
    "version": 3
   },
   "file_extension": ".py",
   "mimetype": "text/x-python",
   "name": "python",
   "nbconvert_exporter": "python",
   "pygments_lexer": "ipython3",
   "version": "3.10.13"
  },
  "papermill": {
   "default_parameters": {},
   "duration": 4806.140953,
   "end_time": "2024-08-29T12:13:45.827937",
   "environment_variables": {},
   "exception": null,
   "input_path": "__notebook__.ipynb",
   "output_path": "__notebook__.ipynb",
   "parameters": {},
   "start_time": "2024-08-29T10:53:39.686984",
   "version": "2.5.0"
  }
 },
 "nbformat": 4,
 "nbformat_minor": 5
}
