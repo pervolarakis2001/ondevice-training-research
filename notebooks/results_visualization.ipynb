{
 "cells": [
  {
   "cell_type": "code",
   "execution_count": null,
   "metadata": {
    "_cell_guid": "b1076dfc-b9ad-4769-8c92-a6c4dae69d19",
    "_uuid": "8f2839f25d086af736a60e9eeb907d3b93b6e0e5",
    "execution": {
     "iopub.execute_input": "2024-08-19T12:54:30.959199Z",
     "iopub.status.busy": "2024-08-19T12:54:30.958789Z",
     "iopub.status.idle": "2024-08-19T12:54:31.887552Z",
     "shell.execute_reply": "2024-08-19T12:54:31.886329Z",
     "shell.execute_reply.started": "2024-08-19T12:54:30.959165Z"
    },
    "trusted": true
   },
   "outputs": [],
   "source": [
    "# Results Visualization and Analysis\n",
    "# Import our plotting utilities\n",
    "import sys\n",
    "sys.path.append('../src')\n",
    "\n",
    "from src.utils import plot_data_from_files, plot_training_results\n",
    "import matplotlib.pyplot as plt\n",
    "import numpy as np"
   ]
  },
  {
   "cell_type": "code",
   "execution_count": null,
   "metadata": {},
   "outputs": [],
   "source": [
    "# Example: Load and plot results from text files\n",
    "# Update these paths to your actual result files\n",
    "file_paths = {\n",
    "    'Accuracy M': '/path/to/accuracy_m.txt',\n",
    "    'Accuracy N': '/path/to/accuracy_n.txt', \n",
    "    'Loss': '/path/to/loss.txt',\n",
    "    'Time': '/path/to/time.txt'\n",
    "}\n",
    "\n",
    "# Create demo data for visualization\n",
    "data = {\n",
    "    'acc_n': [0.85, 0.87, 0.89, 0.91, 0.92],\n",
    "    'acc_m': [0.80, 0.84, 0.88, 0.90, 0.92],\n",
    "    'loss_n': [0.45, 0.42, 0.38, 0.35, 0.32],\n",
    "    'loss_m': [0.50, 0.46, 0.40, 0.36, 0.32],\n",
    "    'training_times': [2.1, 2.3, 2.0, 2.2, 2.1]\n",
    "}\n",
    "\n",
    "# Plot comprehensive results using our utility function\n",
    "figures = plot_training_results(data, output_dir='./plots/', save_plots=True)\n",
    "\n",
    "print(\"Results visualization completed!\")\n",
    "print(f\"Generated {len(figures)} plots\")"
   ]
  }
 ],
 "metadata": {
  "kaggle": {
   "accelerator": "none",
   "dataSources": [
    {
     "datasetId": 5424943,
     "sourceId": 9004932,
     "sourceType": "datasetVersion"
    },
    {
     "datasetId": 5472560,
     "sourceId": 9072541,
     "sourceType": "datasetVersion"
    },
    {
     "datasetId": 5508924,
     "sourceId": 9125092,
     "sourceType": "datasetVersion"
    },
    {
     "datasetId": 5537848,
     "sourceId": 9165317,
     "sourceType": "datasetVersion"
    },
    {
     "datasetId": 5539971,
     "sourceId": 9168198,
     "sourceType": "datasetVersion"
    },
    {
     "datasetId": 5544084,
     "sourceId": 9173788,
     "sourceType": "datasetVersion"
    },
    {
     "datasetId": 5546185,
     "sourceId": 9176979,
     "sourceType": "datasetVersion"
    },
    {
     "datasetId": 5547492,
     "sourceId": 9178689,
     "sourceType": "datasetVersion"
    },
    {
     "datasetId": 5548028,
     "sourceId": 9179417,
     "sourceType": "datasetVersion"
    },
    {
     "datasetId": 5548710,
     "sourceId": 9180414,
     "sourceType": "datasetVersion"
    },
    {
     "datasetId": 5551781,
     "sourceId": 9184703,
     "sourceType": "datasetVersion"
    },
    {
     "datasetId": 5552098,
     "sourceId": 9185138,
     "sourceType": "datasetVersion"
    },
    {
     "datasetId": 5559260,
     "sourceId": 9195747,
     "sourceType": "datasetVersion"
    },
    {
     "datasetId": 5559547,
     "sourceId": 9196130,
     "sourceType": "datasetVersion"
    },
    {
     "datasetId": 5560020,
     "sourceId": 9196800,
     "sourceType": "datasetVersion"
    },
    {
     "datasetId": 5560226,
     "sourceId": 9197085,
     "sourceType": "datasetVersion"
    },
    {
     "datasetId": 5564410,
     "sourceId": 9203247,
     "sourceType": "datasetVersion"
    },
    {
     "datasetId": 5564563,
     "sourceId": 9203472,
     "sourceType": "datasetVersion"
    }
   ],
   "dockerImageVersionId": 30746,
   "isGpuEnabled": false,
   "isInternetEnabled": true,
   "language": "python",
   "sourceType": "notebook"
  },
  "kernelspec": {
   "display_name": "Python 3",
   "language": "python",
   "name": "python3"
  },
  "language_info": {
   "codemirror_mode": {
    "name": "ipython",
    "version": 3
   },
   "file_extension": ".py",
   "mimetype": "text/x-python",
   "name": "python",
   "nbconvert_exporter": "python",
   "pygments_lexer": "ipython3",
   "version": "3.10.13"
  }
 },
 "nbformat": 4,
 "nbformat_minor": 4
}
